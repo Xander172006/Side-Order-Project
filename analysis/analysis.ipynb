{
 "cells": [
  {
   "cell_type": "markdown",
   "id": "72b351d3-3c9c-46b5-9391-93d40d447c8f",
   "metadata": {},
   "source": [
    "### **Splatoon 3 side order  in depth analysis**"
   ]
  },
  {
   "cell_type": "markdown",
   "id": "e3d124ba",
   "metadata": {},
   "source": [
    "Side order is the latest released single player dlc for splatoon 3 on the nintendo switch. The gamemode is structured in a roadlike game, with progress being tracked by the amount of floors the player has went up.\n",
    "there are a total of 30 floors after the first climb of 10 floors. Each floor will progress in difficulty, but does allow the oppurtunity for the player to enhance their weapons & abilities.\n",
    "\n",
    "<img src=\"../images/side-order-main-image.webp\" alt=\"Side order image\" width=\"300\">\n",
    "\n",
    "These upgrades can be acquired by collecting colorchips. There are 6 categories in wich a colorchip can increase different damage, movement, mobility or even the pearl drone enhancements. The last importent feature is the Marina hacks that you can boost by (prlz) wich are the ingame currency for leveling them. Marina's hacks mostly involve player durability, lives and armor statistics."
   ]
  },
  {
   "cell_type": "code",
   "execution_count": 241,
   "id": "36825906-a2ae-464b-8989-cd1e42498a85",
   "metadata": {},
   "outputs": [],
   "source": [
    "from matplotlib import pyplot as plt\n",
    "import pandas as pd\n",
    "import plotly.graph_objs as go\n",
    "from plotly.subplots import make_subplots"
   ]
  },
  {
   "cell_type": "markdown",
   "id": "edf34e3d",
   "metadata": {},
   "source": [
    "The first thing we will look at are the damage types and their increasing scalability. They range from any source of damage that can be dealt by either the player or pearl drone. Such as main weapon, sub weapon, special weapon, pearl drone abilities and stage mechanics like the towers sprinkler."
   ]
  },
  {
   "cell_type": "code",
   "execution_count": 309,
   "id": "11ec2460",
   "metadata": {},
   "outputs": [
    {
     "data": {
      "application/vnd.plotly.v1+json": {
       "config": {
        "plotlyServerURL": "https://plot.ly"
       },
       "data": [
        {
         "hoverinfo": "text",
         "mode": "lines+markers",
         "name": "Ink Damage",
         "text": [
          "Stage: 1<br>Ink Damage: 100.0%",
          "Stage: 2<br>Ink Damage: 105.0%",
          "Stage: 3<br>Ink Damage: 110.0%",
          "Stage: 4<br>Ink Damage: 115.0%",
          "Stage: 5<br>Ink Damage: 120.0%",
          "Stage: 6<br>Ink Damage: 150.0%",
          "Stage: 7<br>Ink Damage: 155.0%",
          "Stage: 8<br>Ink Damage: 160.0%",
          "Stage: 9<br>Ink Damage: 165.0%",
          "Stage: 10<br>Ink Damage: 200.0%",
          "Stage: 11<br>Ink Damage: nan%",
          "Stage: 12<br>Ink Damage: nan%",
          "Stage: 13<br>Ink Damage: nan%",
          "Stage: 14<br>Ink Damage: nan%",
          "Stage: 15<br>Ink Damage: nan%"
         ],
         "type": "scatter",
         "x": [
          1,
          2,
          3,
          4,
          5,
          6,
          7,
          8,
          9,
          10,
          11,
          12,
          13,
          14,
          15
         ],
         "y": [
          100,
          105,
          110,
          115,
          120,
          150,
          155,
          160,
          165,
          200,
          null,
          null,
          null,
          null,
          null
         ]
        },
        {
         "hoverinfo": "text",
         "mode": "lines+markers",
         "name": "Splash Damage",
         "text": [
          "Stage: 1<br>Splash Damage: 100.0%",
          "Stage: 2<br>Splash Damage: 130.0%",
          "Stage: 3<br>Splash Damage: 160.0%",
          "Stage: 4<br>Splash Damage: 190.0%",
          "Stage: 5<br>Splash Damage: 210.0%",
          "Stage: 6<br>Splash Damage: 300.0%",
          "Stage: 7<br>Splash Damage: 330.0%",
          "Stage: 8<br>Splash Damage: 360.0%",
          "Stage: 9<br>Splash Damage: 390.0%",
          "Stage: 10<br>Splash Damage: 500.0%",
          "Stage: 11<br>Splash Damage: nan%",
          "Stage: 12<br>Splash Damage: nan%",
          "Stage: 13<br>Splash Damage: nan%",
          "Stage: 14<br>Splash Damage: nan%",
          "Stage: 15<br>Splash Damage: nan%"
         ],
         "type": "scatter",
         "x": [
          1,
          2,
          3,
          4,
          5,
          6,
          7,
          8,
          9,
          10,
          11,
          12,
          13,
          14,
          15
         ],
         "y": [
          100,
          130,
          160,
          190,
          210,
          300,
          330,
          360,
          390,
          500,
          null,
          null,
          null,
          null,
          null
         ]
        },
        {
         "hoverinfo": "text",
         "mode": "lines+markers",
         "name": "Sound-Wave Damage",
         "text": [
          "Stage: 1<br>Sound-Wave Damage: 100.0%",
          "Stage: 2<br>Sound-Wave Damage: 150.0%",
          "Stage: 3<br>Sound-Wave Damage: 200.0%",
          "Stage: 4<br>Sound-Wave Damage: 250.0%",
          "Stage: 5<br>Sound-Wave Damage: 300.0%",
          "Stage: 6<br>Sound-Wave Damage: 500.0%",
          "Stage: 7<br>Sound-Wave Damage: nan%",
          "Stage: 8<br>Sound-Wave Damage: nan%",
          "Stage: 9<br>Sound-Wave Damage: nan%",
          "Stage: 10<br>Sound-Wave Damage: nan%",
          "Stage: 11<br>Sound-Wave Damage: nan%",
          "Stage: 12<br>Sound-Wave Damage: nan%",
          "Stage: 13<br>Sound-Wave Damage: nan%",
          "Stage: 14<br>Sound-Wave Damage: nan%",
          "Stage: 15<br>Sound-Wave Damage: nan%"
         ],
         "type": "scatter",
         "x": [
          1,
          2,
          3,
          4,
          5,
          6,
          7,
          8,
          9,
          10,
          11,
          12,
          13,
          14,
          15
         ],
         "y": [
          100,
          150,
          200,
          250,
          300,
          500,
          null,
          null,
          null,
          null,
          null,
          null,
          null,
          null,
          null
         ]
        },
        {
         "hoverinfo": "text",
         "mode": "lines+markers",
         "name": "Main Fire Speed (Duelie)",
         "text": [
          "Stage: 1<br>Main Fire Speed (Duelie): 100.0%",
          "Stage: 2<br>Main Fire Speed (Duelie): 117.0%",
          "Stage: 3<br>Main Fire Speed (Duelie): 140.0%",
          "Stage: 4<br>Main Fire Speed (Duelie): 175.0%",
          "Stage: 5<br>Main Fire Speed (Duelie): 233.0%",
          "Stage: 6<br>Main Fire Speed (Duelie): 350.0%",
          "Stage: 7<br>Main Fire Speed (Duelie): nan%",
          "Stage: 8<br>Main Fire Speed (Duelie): nan%",
          "Stage: 9<br>Main Fire Speed (Duelie): nan%",
          "Stage: 10<br>Main Fire Speed (Duelie): nan%",
          "Stage: 11<br>Main Fire Speed (Duelie): nan%",
          "Stage: 12<br>Main Fire Speed (Duelie): nan%",
          "Stage: 13<br>Main Fire Speed (Duelie): nan%",
          "Stage: 14<br>Main Fire Speed (Duelie): nan%",
          "Stage: 15<br>Main Fire Speed (Duelie): nan%"
         ],
         "type": "scatter",
         "x": [
          1,
          2,
          3,
          4,
          5,
          6,
          7,
          8,
          9,
          10,
          11,
          12,
          13,
          14,
          15
         ],
         "y": [
          100,
          117,
          140,
          175,
          233,
          350,
          null,
          null,
          null,
          null,
          null,
          null,
          null,
          null,
          null
         ]
        },
        {
         "hoverinfo": "text",
         "mode": "lines+markers",
         "name": "Main Fire Speed (Splattershot)",
         "text": [
          "Stage: 1<br>Main Fire Speed (Splattershot): 100.0%",
          "Stage: 2<br>Main Fire Speed (Splattershot): 114.0%",
          "Stage: 3<br>Main Fire Speed (Splattershot): 133.0%",
          "Stage: 4<br>Main Fire Speed (Splattershot): 160.0%",
          "Stage: 5<br>Main Fire Speed (Splattershot): 200.0%",
          "Stage: 6<br>Main Fire Speed (Splattershot): 266.0%",
          "Stage: 7<br>Main Fire Speed (Splattershot): nan%",
          "Stage: 8<br>Main Fire Speed (Splattershot): nan%",
          "Stage: 9<br>Main Fire Speed (Splattershot): nan%",
          "Stage: 10<br>Main Fire Speed (Splattershot): nan%",
          "Stage: 11<br>Main Fire Speed (Splattershot): nan%",
          "Stage: 12<br>Main Fire Speed (Splattershot): nan%",
          "Stage: 13<br>Main Fire Speed (Splattershot): nan%",
          "Stage: 14<br>Main Fire Speed (Splattershot): nan%",
          "Stage: 15<br>Main Fire Speed (Splattershot): nan%"
         ],
         "type": "scatter",
         "x": [
          1,
          2,
          3,
          4,
          5,
          6,
          7,
          8,
          9,
          10,
          11,
          12,
          13,
          14,
          15
         ],
         "y": [
          100,
          114,
          133,
          160,
          200,
          266,
          null,
          null,
          null,
          null,
          null,
          null,
          null,
          null,
          null
         ]
        },
        {
         "hoverinfo": "text",
         "mode": "lines+markers",
         "name": "Main Fire Speed (Brella)",
         "text": [
          "Stage: 1<br>Main Fire Speed (Brella): 100.0%",
          "Stage: 2<br>Main Fire Speed (Brella): 117.0%",
          "Stage: 3<br>Main Fire Speed (Brella): 126.0%",
          "Stage: 4<br>Main Fire Speed (Brella): 136.0%",
          "Stage: 5<br>Main Fire Speed (Brella): 148.0%",
          "Stage: 6<br>Main Fire Speed (Brella): 200.0%",
          "Stage: 7<br>Main Fire Speed (Brella): nan%",
          "Stage: 8<br>Main Fire Speed (Brella): nan%",
          "Stage: 9<br>Main Fire Speed (Brella): nan%",
          "Stage: 10<br>Main Fire Speed (Brella): nan%",
          "Stage: 11<br>Main Fire Speed (Brella): nan%",
          "Stage: 12<br>Main Fire Speed (Brella): nan%",
          "Stage: 13<br>Main Fire Speed (Brella): nan%",
          "Stage: 14<br>Main Fire Speed (Brella): nan%",
          "Stage: 15<br>Main Fire Speed (Brella): nan%"
         ],
         "type": "scatter",
         "x": [
          1,
          2,
          3,
          4,
          5,
          6,
          7,
          8,
          9,
          10,
          11,
          12,
          13,
          14,
          15
         ],
         "y": [
          100,
          117,
          126,
          136,
          148,
          200,
          null,
          null,
          null,
          null,
          null,
          null,
          null,
          null,
          null
         ]
        },
        {
         "hoverinfo": "text",
         "mode": "lines+markers",
         "name": "Main Fire Speed (Roller)",
         "text": [
          "Stage: 1<br>Main Fire Speed (Roller): 100.0%",
          "Stage: 2<br>Main Fire Speed (Roller): 121.0%",
          "Stage: 3<br>Main Fire Speed (Roller): 144.0%",
          "Stage: 4<br>Main Fire Speed (Roller): 177.0%",
          "Stage: 5<br>Main Fire Speed (Roller): 209.0%",
          "Stage: 6<br>Main Fire Speed (Roller): 328.0%",
          "Stage: 7<br>Main Fire Speed (Roller): nan%",
          "Stage: 8<br>Main Fire Speed (Roller): nan%",
          "Stage: 9<br>Main Fire Speed (Roller): nan%",
          "Stage: 10<br>Main Fire Speed (Roller): nan%",
          "Stage: 11<br>Main Fire Speed (Roller): nan%",
          "Stage: 12<br>Main Fire Speed (Roller): nan%",
          "Stage: 13<br>Main Fire Speed (Roller): nan%",
          "Stage: 14<br>Main Fire Speed (Roller): nan%",
          "Stage: 15<br>Main Fire Speed (Roller): nan%"
         ],
         "type": "scatter",
         "x": [
          1,
          2,
          3,
          4,
          5,
          6,
          7,
          8,
          9,
          10,
          11,
          12,
          13,
          14,
          15
         ],
         "y": [
          100,
          121,
          144,
          177,
          209,
          328,
          null,
          null,
          null,
          null,
          null,
          null,
          null,
          null,
          null
         ]
        },
        {
         "hoverinfo": "text",
         "mode": "lines+markers",
         "name": "Main Fire Speed (Brush)",
         "text": [
          "Stage: 1<br>Main Fire Speed (Brush): 100.0%",
          "Stage: 2<br>Main Fire Speed (Brush): 125.0%",
          "Stage: 3<br>Main Fire Speed (Brush): 136.0%",
          "Stage: 4<br>Main Fire Speed (Brush): 150.0%",
          "Stage: 5<br>Main Fire Speed (Brush): 167.0%",
          "Stage: 6<br>Main Fire Speed (Brush): 250.0%",
          "Stage: 7<br>Main Fire Speed (Brush): nan%",
          "Stage: 8<br>Main Fire Speed (Brush): nan%",
          "Stage: 9<br>Main Fire Speed (Brush): nan%",
          "Stage: 10<br>Main Fire Speed (Brush): nan%",
          "Stage: 11<br>Main Fire Speed (Brush): nan%",
          "Stage: 12<br>Main Fire Speed (Brush): nan%",
          "Stage: 13<br>Main Fire Speed (Brush): nan%",
          "Stage: 14<br>Main Fire Speed (Brush): nan%",
          "Stage: 15<br>Main Fire Speed (Brush): nan%"
         ],
         "type": "scatter",
         "x": [
          1,
          2,
          3,
          4,
          5,
          6,
          7,
          8,
          9,
          10,
          11,
          12,
          13,
          14,
          15
         ],
         "y": [
          100,
          125,
          136,
          150,
          167,
          250,
          null,
          null,
          null,
          null,
          null,
          null,
          null,
          null,
          null
         ]
        },
        {
         "hoverinfo": "text",
         "mode": "lines+markers",
         "name": "Main Fire Speed (Blaster)",
         "text": [
          "Stage: 1<br>Main Fire Speed (Blaster): 100.0%",
          "Stage: 2<br>Main Fire Speed (Blaster): 150.0%",
          "Stage: 3<br>Main Fire Speed (Blaster): 200.0%",
          "Stage: 4<br>Main Fire Speed (Blaster): 273.0%",
          "Stage: 5<br>Main Fire Speed (Blaster): 375.0%",
          "Stage: 6<br>Main Fire Speed (Blaster): 1000.0%",
          "Stage: 7<br>Main Fire Speed (Blaster): nan%",
          "Stage: 8<br>Main Fire Speed (Blaster): nan%",
          "Stage: 9<br>Main Fire Speed (Blaster): nan%",
          "Stage: 10<br>Main Fire Speed (Blaster): nan%",
          "Stage: 11<br>Main Fire Speed (Blaster): nan%",
          "Stage: 12<br>Main Fire Speed (Blaster): nan%",
          "Stage: 13<br>Main Fire Speed (Blaster): nan%",
          "Stage: 14<br>Main Fire Speed (Blaster): nan%",
          "Stage: 15<br>Main Fire Speed (Blaster): nan%"
         ],
         "type": "scatter",
         "x": [
          1,
          2,
          3,
          4,
          5,
          6,
          7,
          8,
          9,
          10,
          11,
          12,
          13,
          14,
          15
         ],
         "y": [
          100,
          150,
          200,
          273,
          375,
          1000,
          null,
          null,
          null,
          null,
          null,
          null,
          null,
          null,
          null
         ]
        },
        {
         "hoverinfo": "text",
         "mode": "lines+markers",
         "name": "Main Fire Speed (Slosher)",
         "text": [
          "Stage: 1<br>Main Fire Speed (Slosher): 100.0%",
          "Stage: 2<br>Main Fire Speed (Slosher): 117.0%",
          "Stage: 3<br>Main Fire Speed (Slosher): 131.0%",
          "Stage: 4<br>Main Fire Speed (Slosher): 148.0%",
          "Stage: 5<br>Main Fire Speed (Slosher): 170.0%",
          "Stage: 6<br>Main Fire Speed (Slosher): 227.0%",
          "Stage: 7<br>Main Fire Speed (Slosher): nan%",
          "Stage: 8<br>Main Fire Speed (Slosher): nan%",
          "Stage: 9<br>Main Fire Speed (Slosher): nan%",
          "Stage: 10<br>Main Fire Speed (Slosher): nan%",
          "Stage: 11<br>Main Fire Speed (Slosher): nan%",
          "Stage: 12<br>Main Fire Speed (Slosher): nan%",
          "Stage: 13<br>Main Fire Speed (Slosher): nan%",
          "Stage: 14<br>Main Fire Speed (Slosher): nan%",
          "Stage: 15<br>Main Fire Speed (Slosher): nan%"
         ],
         "type": "scatter",
         "x": [
          1,
          2,
          3,
          4,
          5,
          6,
          7,
          8,
          9,
          10,
          11,
          12,
          13,
          14,
          15
         ],
         "y": [
          100,
          117,
          131,
          148,
          170,
          227,
          null,
          null,
          null,
          null,
          null,
          null,
          null,
          null,
          null
         ]
        },
        {
         "hoverinfo": "text",
         "mode": "lines+markers",
         "name": "Horizontal-Slash Speed",
         "text": [
          "Stage: 1<br>Horizontal-Slash Speed: 100.0%",
          "Stage: 2<br>Horizontal-Slash Speed: 118.0%",
          "Stage: 3<br>Horizontal-Slash Speed: 137.0%",
          "Stage: 4<br>Horizontal-Slash Speed: 162.0%",
          "Stage: 5<br>Horizontal-Slash Speed: 200.0%",
          "Stage: 6<br>Horizontal-Slash Speed: 260.0%",
          "Stage: 7<br>Horizontal-Slash Speed: nan%",
          "Stage: 8<br>Horizontal-Slash Speed: nan%",
          "Stage: 9<br>Horizontal-Slash Speed: nan%",
          "Stage: 10<br>Horizontal-Slash Speed: nan%",
          "Stage: 11<br>Horizontal-Slash Speed: nan%",
          "Stage: 12<br>Horizontal-Slash Speed: nan%",
          "Stage: 13<br>Horizontal-Slash Speed: nan%",
          "Stage: 14<br>Horizontal-Slash Speed: nan%",
          "Stage: 15<br>Horizontal-Slash Speed: nan%"
         ],
         "type": "scatter",
         "x": [
          1,
          2,
          3,
          4,
          5,
          6,
          7,
          8,
          9,
          10,
          11,
          12,
          13,
          14,
          15
         ],
         "y": [
          100,
          118,
          137,
          162,
          200,
          260,
          null,
          null,
          null,
          null,
          null,
          null,
          null,
          null,
          null
         ]
        },
        {
         "hoverinfo": "text",
         "mode": "lines+markers",
         "name": "Splatling Barrage",
         "text": [
          "Stage: 1<br>Splatling Barrage: 100.0%",
          "Stage: 2<br>Splatling Barrage: 121.0%",
          "Stage: 3<br>Splatling Barrage: 133.0%",
          "Stage: 4<br>Splatling Barrage: 145.0%",
          "Stage: 5<br>Splatling Barrage: 160.0%",
          "Stage: 6<br>Splatling Barrage: 200.0%",
          "Stage: 7<br>Splatling Barrage: nan%",
          "Stage: 8<br>Splatling Barrage: nan%",
          "Stage: 9<br>Splatling Barrage: nan%",
          "Stage: 10<br>Splatling Barrage: nan%",
          "Stage: 11<br>Splatling Barrage: nan%",
          "Stage: 12<br>Splatling Barrage: nan%",
          "Stage: 13<br>Splatling Barrage: nan%",
          "Stage: 14<br>Splatling Barrage: nan%",
          "Stage: 15<br>Splatling Barrage: nan%"
         ],
         "type": "scatter",
         "x": [
          1,
          2,
          3,
          4,
          5,
          6,
          7,
          8,
          9,
          10,
          11,
          12,
          13,
          14,
          15
         ],
         "y": [
          100,
          121,
          133,
          145,
          160,
          200,
          null,
          null,
          null,
          null,
          null,
          null,
          null,
          null,
          null
         ]
        },
        {
         "hoverinfo": "text",
         "mode": "lines+markers",
         "name": "Main Damage (Close)",
         "text": [
          "Stage: 1<br>Main Damage (Close): 100.0%",
          "Stage: 2<br>Main Damage (Close): 115.0%",
          "Stage: 3<br>Main Damage (Close): 130.0%",
          "Stage: 4<br>Main Damage (Close): 145.0%",
          "Stage: 5<br>Main Damage (Close): 160.0%",
          "Stage: 6<br>Main Damage (Close): 200.0%",
          "Stage: 7<br>Main Damage (Close): nan%",
          "Stage: 8<br>Main Damage (Close): nan%",
          "Stage: 9<br>Main Damage (Close): nan%",
          "Stage: 10<br>Main Damage (Close): nan%",
          "Stage: 11<br>Main Damage (Close): nan%",
          "Stage: 12<br>Main Damage (Close): nan%",
          "Stage: 13<br>Main Damage (Close): nan%",
          "Stage: 14<br>Main Damage (Close): nan%",
          "Stage: 15<br>Main Damage (Close): nan%"
         ],
         "type": "scatter",
         "x": [
          1,
          2,
          3,
          4,
          5,
          6,
          7,
          8,
          9,
          10,
          11,
          12,
          13,
          14,
          15
         ],
         "y": [
          100,
          115,
          130,
          145,
          160,
          200,
          null,
          null,
          null,
          null,
          null,
          null,
          null,
          null,
          null
         ]
        },
        {
         "hoverinfo": "text",
         "mode": "lines+markers",
         "name": "Main Damage (Distant)",
         "text": [
          "Stage: 1<br>Main Damage (Distant): 100.0%",
          "Stage: 2<br>Main Damage (Distant): 115.0%",
          "Stage: 3<br>Main Damage (Distant): 130.0%",
          "Stage: 4<br>Main Damage (Distant): 145.0%",
          "Stage: 5<br>Main Damage (Distant): 160.0%",
          "Stage: 6<br>Main Damage (Distant): 200.0%",
          "Stage: 7<br>Main Damage (Distant): nan%",
          "Stage: 8<br>Main Damage (Distant): nan%",
          "Stage: 9<br>Main Damage (Distant): nan%",
          "Stage: 10<br>Main Damage (Distant): nan%",
          "Stage: 11<br>Main Damage (Distant): nan%",
          "Stage: 12<br>Main Damage (Distant): nan%",
          "Stage: 13<br>Main Damage (Distant): nan%",
          "Stage: 14<br>Main Damage (Distant): nan%",
          "Stage: 15<br>Main Damage (Distant): nan%"
         ],
         "type": "scatter",
         "x": [
          1,
          2,
          3,
          4,
          5,
          6,
          7,
          8,
          9,
          10,
          11,
          12,
          13,
          14,
          15
         ],
         "y": [
          100,
          115,
          130,
          145,
          160,
          200,
          null,
          null,
          null,
          null,
          null,
          null,
          null,
          null,
          null
         ]
        },
        {
         "hoverinfo": "text",
         "mode": "lines+markers",
         "name": "Poison Ink",
         "text": [
          "Stage: 1<br>Poison Ink: 100.0%",
          "Stage: 2<br>Poison Ink: 300.0%",
          "Stage: 3<br>Poison Ink: 400.0%",
          "Stage: 4<br>Poison Ink: 500.0%",
          "Stage: 5<br>Poison Ink: 600.0%",
          "Stage: 6<br>Poison Ink: 800.0%",
          "Stage: 7<br>Poison Ink: nan%",
          "Stage: 8<br>Poison Ink: nan%",
          "Stage: 9<br>Poison Ink: nan%",
          "Stage: 10<br>Poison Ink: nan%",
          "Stage: 11<br>Poison Ink: nan%",
          "Stage: 12<br>Poison Ink: nan%",
          "Stage: 13<br>Poison Ink: nan%",
          "Stage: 14<br>Poison Ink: nan%",
          "Stage: 15<br>Poison Ink: nan%"
         ],
         "type": "scatter",
         "x": [
          1,
          2,
          3,
          4,
          5,
          6,
          7,
          8,
          9,
          10,
          11,
          12,
          13,
          14,
          15
         ],
         "y": [
          100,
          300,
          400,
          500,
          600,
          800,
          null,
          null,
          null,
          null,
          null,
          null,
          null,
          null,
          null
         ]
        }
       ],
       "layout": {
        "hovermode": "closest",
        "legend": {
         "bgcolor": "rgba(0,0,0,0)",
         "bordercolor": "rgba(0,0,0,0)",
         "font": {
          "color": "black",
          "family": "Arial",
          "size": 12
         },
         "traceorder": "normal",
         "x": 1,
         "y": 1
        },
        "margin": {
         "b": 40,
         "l": 40,
         "r": 40,
         "t": 40
        },
        "template": {
         "data": {
          "bar": [
           {
            "error_x": {
             "color": "#2a3f5f"
            },
            "error_y": {
             "color": "#2a3f5f"
            },
            "marker": {
             "line": {
              "color": "#E5ECF6",
              "width": 0.5
             },
             "pattern": {
              "fillmode": "overlay",
              "size": 10,
              "solidity": 0.2
             }
            },
            "type": "bar"
           }
          ],
          "barpolar": [
           {
            "marker": {
             "line": {
              "color": "#E5ECF6",
              "width": 0.5
             },
             "pattern": {
              "fillmode": "overlay",
              "size": 10,
              "solidity": 0.2
             }
            },
            "type": "barpolar"
           }
          ],
          "carpet": [
           {
            "aaxis": {
             "endlinecolor": "#2a3f5f",
             "gridcolor": "white",
             "linecolor": "white",
             "minorgridcolor": "white",
             "startlinecolor": "#2a3f5f"
            },
            "baxis": {
             "endlinecolor": "#2a3f5f",
             "gridcolor": "white",
             "linecolor": "white",
             "minorgridcolor": "white",
             "startlinecolor": "#2a3f5f"
            },
            "type": "carpet"
           }
          ],
          "choropleth": [
           {
            "colorbar": {
             "outlinewidth": 0,
             "ticks": ""
            },
            "type": "choropleth"
           }
          ],
          "contour": [
           {
            "colorbar": {
             "outlinewidth": 0,
             "ticks": ""
            },
            "colorscale": [
             [
              0,
              "#0d0887"
             ],
             [
              0.1111111111111111,
              "#46039f"
             ],
             [
              0.2222222222222222,
              "#7201a8"
             ],
             [
              0.3333333333333333,
              "#9c179e"
             ],
             [
              0.4444444444444444,
              "#bd3786"
             ],
             [
              0.5555555555555556,
              "#d8576b"
             ],
             [
              0.6666666666666666,
              "#ed7953"
             ],
             [
              0.7777777777777778,
              "#fb9f3a"
             ],
             [
              0.8888888888888888,
              "#fdca26"
             ],
             [
              1,
              "#f0f921"
             ]
            ],
            "type": "contour"
           }
          ],
          "contourcarpet": [
           {
            "colorbar": {
             "outlinewidth": 0,
             "ticks": ""
            },
            "type": "contourcarpet"
           }
          ],
          "heatmap": [
           {
            "colorbar": {
             "outlinewidth": 0,
             "ticks": ""
            },
            "colorscale": [
             [
              0,
              "#0d0887"
             ],
             [
              0.1111111111111111,
              "#46039f"
             ],
             [
              0.2222222222222222,
              "#7201a8"
             ],
             [
              0.3333333333333333,
              "#9c179e"
             ],
             [
              0.4444444444444444,
              "#bd3786"
             ],
             [
              0.5555555555555556,
              "#d8576b"
             ],
             [
              0.6666666666666666,
              "#ed7953"
             ],
             [
              0.7777777777777778,
              "#fb9f3a"
             ],
             [
              0.8888888888888888,
              "#fdca26"
             ],
             [
              1,
              "#f0f921"
             ]
            ],
            "type": "heatmap"
           }
          ],
          "heatmapgl": [
           {
            "colorbar": {
             "outlinewidth": 0,
             "ticks": ""
            },
            "colorscale": [
             [
              0,
              "#0d0887"
             ],
             [
              0.1111111111111111,
              "#46039f"
             ],
             [
              0.2222222222222222,
              "#7201a8"
             ],
             [
              0.3333333333333333,
              "#9c179e"
             ],
             [
              0.4444444444444444,
              "#bd3786"
             ],
             [
              0.5555555555555556,
              "#d8576b"
             ],
             [
              0.6666666666666666,
              "#ed7953"
             ],
             [
              0.7777777777777778,
              "#fb9f3a"
             ],
             [
              0.8888888888888888,
              "#fdca26"
             ],
             [
              1,
              "#f0f921"
             ]
            ],
            "type": "heatmapgl"
           }
          ],
          "histogram": [
           {
            "marker": {
             "pattern": {
              "fillmode": "overlay",
              "size": 10,
              "solidity": 0.2
             }
            },
            "type": "histogram"
           }
          ],
          "histogram2d": [
           {
            "colorbar": {
             "outlinewidth": 0,
             "ticks": ""
            },
            "colorscale": [
             [
              0,
              "#0d0887"
             ],
             [
              0.1111111111111111,
              "#46039f"
             ],
             [
              0.2222222222222222,
              "#7201a8"
             ],
             [
              0.3333333333333333,
              "#9c179e"
             ],
             [
              0.4444444444444444,
              "#bd3786"
             ],
             [
              0.5555555555555556,
              "#d8576b"
             ],
             [
              0.6666666666666666,
              "#ed7953"
             ],
             [
              0.7777777777777778,
              "#fb9f3a"
             ],
             [
              0.8888888888888888,
              "#fdca26"
             ],
             [
              1,
              "#f0f921"
             ]
            ],
            "type": "histogram2d"
           }
          ],
          "histogram2dcontour": [
           {
            "colorbar": {
             "outlinewidth": 0,
             "ticks": ""
            },
            "colorscale": [
             [
              0,
              "#0d0887"
             ],
             [
              0.1111111111111111,
              "#46039f"
             ],
             [
              0.2222222222222222,
              "#7201a8"
             ],
             [
              0.3333333333333333,
              "#9c179e"
             ],
             [
              0.4444444444444444,
              "#bd3786"
             ],
             [
              0.5555555555555556,
              "#d8576b"
             ],
             [
              0.6666666666666666,
              "#ed7953"
             ],
             [
              0.7777777777777778,
              "#fb9f3a"
             ],
             [
              0.8888888888888888,
              "#fdca26"
             ],
             [
              1,
              "#f0f921"
             ]
            ],
            "type": "histogram2dcontour"
           }
          ],
          "mesh3d": [
           {
            "colorbar": {
             "outlinewidth": 0,
             "ticks": ""
            },
            "type": "mesh3d"
           }
          ],
          "parcoords": [
           {
            "line": {
             "colorbar": {
              "outlinewidth": 0,
              "ticks": ""
             }
            },
            "type": "parcoords"
           }
          ],
          "pie": [
           {
            "automargin": true,
            "type": "pie"
           }
          ],
          "scatter": [
           {
            "fillpattern": {
             "fillmode": "overlay",
             "size": 10,
             "solidity": 0.2
            },
            "type": "scatter"
           }
          ],
          "scatter3d": [
           {
            "line": {
             "colorbar": {
              "outlinewidth": 0,
              "ticks": ""
             }
            },
            "marker": {
             "colorbar": {
              "outlinewidth": 0,
              "ticks": ""
             }
            },
            "type": "scatter3d"
           }
          ],
          "scattercarpet": [
           {
            "marker": {
             "colorbar": {
              "outlinewidth": 0,
              "ticks": ""
             }
            },
            "type": "scattercarpet"
           }
          ],
          "scattergeo": [
           {
            "marker": {
             "colorbar": {
              "outlinewidth": 0,
              "ticks": ""
             }
            },
            "type": "scattergeo"
           }
          ],
          "scattergl": [
           {
            "marker": {
             "colorbar": {
              "outlinewidth": 0,
              "ticks": ""
             }
            },
            "type": "scattergl"
           }
          ],
          "scattermapbox": [
           {
            "marker": {
             "colorbar": {
              "outlinewidth": 0,
              "ticks": ""
             }
            },
            "type": "scattermapbox"
           }
          ],
          "scatterpolar": [
           {
            "marker": {
             "colorbar": {
              "outlinewidth": 0,
              "ticks": ""
             }
            },
            "type": "scatterpolar"
           }
          ],
          "scatterpolargl": [
           {
            "marker": {
             "colorbar": {
              "outlinewidth": 0,
              "ticks": ""
             }
            },
            "type": "scatterpolargl"
           }
          ],
          "scatterternary": [
           {
            "marker": {
             "colorbar": {
              "outlinewidth": 0,
              "ticks": ""
             }
            },
            "type": "scatterternary"
           }
          ],
          "surface": [
           {
            "colorbar": {
             "outlinewidth": 0,
             "ticks": ""
            },
            "colorscale": [
             [
              0,
              "#0d0887"
             ],
             [
              0.1111111111111111,
              "#46039f"
             ],
             [
              0.2222222222222222,
              "#7201a8"
             ],
             [
              0.3333333333333333,
              "#9c179e"
             ],
             [
              0.4444444444444444,
              "#bd3786"
             ],
             [
              0.5555555555555556,
              "#d8576b"
             ],
             [
              0.6666666666666666,
              "#ed7953"
             ],
             [
              0.7777777777777778,
              "#fb9f3a"
             ],
             [
              0.8888888888888888,
              "#fdca26"
             ],
             [
              1,
              "#f0f921"
             ]
            ],
            "type": "surface"
           }
          ],
          "table": [
           {
            "cells": {
             "fill": {
              "color": "#EBF0F8"
             },
             "line": {
              "color": "white"
             }
            },
            "header": {
             "fill": {
              "color": "#C8D4E3"
             },
             "line": {
              "color": "white"
             }
            },
            "type": "table"
           }
          ]
         },
         "layout": {
          "annotationdefaults": {
           "arrowcolor": "#2a3f5f",
           "arrowhead": 0,
           "arrowwidth": 1
          },
          "autotypenumbers": "strict",
          "coloraxis": {
           "colorbar": {
            "outlinewidth": 0,
            "ticks": ""
           }
          },
          "colorscale": {
           "diverging": [
            [
             0,
             "#8e0152"
            ],
            [
             0.1,
             "#c51b7d"
            ],
            [
             0.2,
             "#de77ae"
            ],
            [
             0.3,
             "#f1b6da"
            ],
            [
             0.4,
             "#fde0ef"
            ],
            [
             0.5,
             "#f7f7f7"
            ],
            [
             0.6,
             "#e6f5d0"
            ],
            [
             0.7,
             "#b8e186"
            ],
            [
             0.8,
             "#7fbc41"
            ],
            [
             0.9,
             "#4d9221"
            ],
            [
             1,
             "#276419"
            ]
           ],
           "sequential": [
            [
             0,
             "#0d0887"
            ],
            [
             0.1111111111111111,
             "#46039f"
            ],
            [
             0.2222222222222222,
             "#7201a8"
            ],
            [
             0.3333333333333333,
             "#9c179e"
            ],
            [
             0.4444444444444444,
             "#bd3786"
            ],
            [
             0.5555555555555556,
             "#d8576b"
            ],
            [
             0.6666666666666666,
             "#ed7953"
            ],
            [
             0.7777777777777778,
             "#fb9f3a"
            ],
            [
             0.8888888888888888,
             "#fdca26"
            ],
            [
             1,
             "#f0f921"
            ]
           ],
           "sequentialminus": [
            [
             0,
             "#0d0887"
            ],
            [
             0.1111111111111111,
             "#46039f"
            ],
            [
             0.2222222222222222,
             "#7201a8"
            ],
            [
             0.3333333333333333,
             "#9c179e"
            ],
            [
             0.4444444444444444,
             "#bd3786"
            ],
            [
             0.5555555555555556,
             "#d8576b"
            ],
            [
             0.6666666666666666,
             "#ed7953"
            ],
            [
             0.7777777777777778,
             "#fb9f3a"
            ],
            [
             0.8888888888888888,
             "#fdca26"
            ],
            [
             1,
             "#f0f921"
            ]
           ]
          },
          "colorway": [
           "#636efa",
           "#EF553B",
           "#00cc96",
           "#ab63fa",
           "#FFA15A",
           "#19d3f3",
           "#FF6692",
           "#B6E880",
           "#FF97FF",
           "#FECB52"
          ],
          "font": {
           "color": "#2a3f5f"
          },
          "geo": {
           "bgcolor": "white",
           "lakecolor": "white",
           "landcolor": "#E5ECF6",
           "showlakes": true,
           "showland": true,
           "subunitcolor": "white"
          },
          "hoverlabel": {
           "align": "left"
          },
          "hovermode": "closest",
          "mapbox": {
           "style": "light"
          },
          "paper_bgcolor": "white",
          "plot_bgcolor": "#E5ECF6",
          "polar": {
           "angularaxis": {
            "gridcolor": "white",
            "linecolor": "white",
            "ticks": ""
           },
           "bgcolor": "#E5ECF6",
           "radialaxis": {
            "gridcolor": "white",
            "linecolor": "white",
            "ticks": ""
           }
          },
          "scene": {
           "xaxis": {
            "backgroundcolor": "#E5ECF6",
            "gridcolor": "white",
            "gridwidth": 2,
            "linecolor": "white",
            "showbackground": true,
            "ticks": "",
            "zerolinecolor": "white"
           },
           "yaxis": {
            "backgroundcolor": "#E5ECF6",
            "gridcolor": "white",
            "gridwidth": 2,
            "linecolor": "white",
            "showbackground": true,
            "ticks": "",
            "zerolinecolor": "white"
           },
           "zaxis": {
            "backgroundcolor": "#E5ECF6",
            "gridcolor": "white",
            "gridwidth": 2,
            "linecolor": "white",
            "showbackground": true,
            "ticks": "",
            "zerolinecolor": "white"
           }
          },
          "shapedefaults": {
           "line": {
            "color": "#2a3f5f"
           }
          },
          "ternary": {
           "aaxis": {
            "gridcolor": "white",
            "linecolor": "white",
            "ticks": ""
           },
           "baxis": {
            "gridcolor": "white",
            "linecolor": "white",
            "ticks": ""
           },
           "bgcolor": "#E5ECF6",
           "caxis": {
            "gridcolor": "white",
            "linecolor": "white",
            "ticks": ""
           }
          },
          "title": {
           "x": 0.05
          },
          "xaxis": {
           "automargin": true,
           "gridcolor": "white",
           "linecolor": "white",
           "ticks": "",
           "title": {
            "standoff": 15
           },
           "zerolinecolor": "white",
           "zerolinewidth": 2
          },
          "yaxis": {
           "automargin": true,
           "gridcolor": "white",
           "linecolor": "white",
           "ticks": "",
           "title": {
            "standoff": 15
           },
           "zerolinecolor": "white",
           "zerolinewidth": 2
          }
         }
        },
        "title": {
         "font": {
          "color": "black",
          "family": "Arial",
          "size": 14
         },
         "text": "<b>Upgrades per (power) colorchip</b>",
         "x": 0.4,
         "xanchor": "center",
         "y": 0.965,
         "yanchor": "top"
        },
        "width": 900,
        "xaxis": {
         "anchor": "y",
         "domain": [
          0,
          1
         ],
         "range": [
          1,
          10.1
         ],
         "tickmode": "array",
         "ticktext": [
          1,
          2,
          3,
          4,
          5,
          6,
          7,
          8,
          9,
          10
         ],
         "tickvals": [
          1,
          2,
          3,
          4,
          5,
          6,
          7,
          8,
          9,
          10
         ],
         "title": {
          "font": {
           "color": "black",
           "family": "Arial",
           "size": 12
          },
          "text": "<b>Stage Upgrade Number</b>"
         }
        },
        "yaxis": {
         "anchor": "x",
         "domain": [
          0,
          1
         ],
         "tickmode": "array",
         "ticktext": [
          "100%",
          "200%",
          "300%",
          "400%",
          "500%",
          "600%",
          "700%",
          "800%",
          "900%",
          "1000%"
         ],
         "tickvals": [
          100,
          200,
          300,
          400,
          500,
          600,
          700,
          800,
          900,
          1000
         ],
         "title": {
          "font": {
           "color": "black",
           "family": "Arial",
           "size": 12
          },
          "standoff": 0.2,
          "text": "<b>Increment in (%)</b>"
         }
        }
       }
      }
     },
     "metadata": {},
     "output_type": "display_data"
    }
   ],
   "source": [
    "powerchips = pd.read_csv('../data/colorchips & damage/colorchips/power_colorchips.csv')\n",
    "\n",
    "upgrade_number = powerchips['id']\n",
    "upgrade_columns = powerchips.columns[2:-1]\n",
    "\n",
    "# Convert percentage to float\n",
    "for col in upgrade_columns:\n",
    "    powerchips[col] = powerchips[col].str.rstrip('%').astype('float')\n",
    "\n",
    "# Create the plot\n",
    "fig = make_subplots(rows=1, cols=1)\n",
    "\n",
    "# Add traces for each upgrade column\n",
    "for col in upgrade_columns:\n",
    "    fig.add_trace(go.Scatter(\n",
    "        x=upgrade_number,\n",
    "        y=powerchips[col],\n",
    "        mode='lines+markers',\n",
    "        name=col,\n",
    "        hoverinfo='text',\n",
    "        text=[f'Stage: {x}<br>{col}: {y}%' for x, y in zip(upgrade_number, powerchips[col])]\n",
    "    ))\n",
    "\n",
    "# Update layout\n",
    "fig.update_layout(\n",
    "    title={\n",
    "        'text': '<b>Upgrades per (power) colorchip</b>',\n",
    "        'y': 0.965,\n",
    "        'x': 0.4,\n",
    "        'xanchor': 'center',\n",
    "        'yanchor': 'top',\n",
    "        'font': {\n",
    "            'size': 14,\n",
    "            'family': 'Arial',\n",
    "            'color': 'black',\n",
    "        }\n",
    "    },\n",
    "    xaxis=dict(\n",
    "        title='<b>Stage Upgrade Number</b>',\n",
    "        tickmode='array',\n",
    "        tickvals=list(range(1, 11)),\n",
    "        ticktext=list(range(1, 11)),\n",
    "        titlefont=dict(family='Arial', size=12, color='black'),\n",
    "        range=[1, 10.1]\n",
    "    ),\n",
    "    yaxis=dict(\n",
    "         title=dict(\n",
    "            text='<b>Increment in (%)</b>',\n",
    "            standoff=0.2  # Adjust this value to move the title to the right\n",
    "        ),\n",
    "        tickmode='array',\n",
    "        tickvals=list(range(100, 1001, 100)),\n",
    "        ticktext=[f\"{tick}%\" for tick in range(100, 1001, 100)],\n",
    "        titlefont=dict(family='Arial', size=12, color='black')\n",
    "    ),\n",
    "    legend=dict(\n",
    "        x=1,\n",
    "        y=1,\n",
    "        traceorder='normal',\n",
    "        font=dict(family='Arial', size=12, color='black'),\n",
    "        bgcolor='rgba(0,0,0,0)',\n",
    "        bordercolor='rgba(0,0,0,0)'\n",
    "    ),\n",
    "    margin=dict(l=40, r=40, t=40, b=40),\n",
    "    hovermode='closest',\n",
    "    width=900  # Decrease the width of the plot\n",
    ")\n",
    "\n",
    "# Show the plot\n",
    "fig.show()"
   ]
  }
 ],
 "metadata": {
  "kernelspec": {
   "display_name": "Python 3 (ipykernel)",
   "language": "python",
   "name": "python3"
  },
  "language_info": {
   "codemirror_mode": {
    "name": "ipython",
    "version": 3
   },
   "file_extension": ".py",
   "mimetype": "text/x-python",
   "name": "python",
   "nbconvert_exporter": "python",
   "pygments_lexer": "ipython3",
   "version": "3.11.4"
  }
 },
 "nbformat": 4,
 "nbformat_minor": 5
}
