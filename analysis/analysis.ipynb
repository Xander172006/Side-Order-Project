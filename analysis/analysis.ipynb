{
 "cells": [
  {
   "cell_type": "markdown",
   "id": "72b351d3-3c9c-46b5-9391-93d40d447c8f",
   "metadata": {},
   "source": [
    "### **Splatoon 3 side order  in depth analysis**"
   ]
  },
  {
   "cell_type": "markdown",
   "id": "e3d124ba",
   "metadata": {},
   "source": [
    "Side order is the latest released single player dlc for splatoon 3 on the nintendo switch. The gamemode is structured in a roadlike game, with progress being tracked by the amount of floors the player has went up.\n",
    "there are a total of 30 floors after the first climb of 10 floors. Each floor will progress in difficulty, but does allow the oppurtunity for the player to enhance their weapons & abilities.\n",
    "\n",
    "<img src=\"../images/side-order-main-image.webp\" alt=\"Side order image\" width=\"300\">\n",
    "\n",
    "These upgrades can be acquired by collecting colorchips. There are 6 categories in wich a colorchip can increase different damage, movement, mobility or even the pearl drone enhancements. The last importent feature is the Marina hacks that you can boost by (prlz) wich are the ingame currency for leveling them. Marina's hacks mostly involve player durability, lives and armor statistics."
   ]
  },
  {
   "cell_type": "code",
   "execution_count": 44,
   "id": "36825906-a2ae-464b-8989-cd1e42498a85",
   "metadata": {},
   "outputs": [],
   "source": [
    "import pandas as pd\n",
    "import numpy as np\n",
    "import matplotlib.pyplot as plt\n",
    "import ipywidgets as widgets\n",
    "from ipywidgets import interact, interact_manual, Dropdown, Layout\n"
   ]
  },
  {
   "cell_type": "markdown",
   "id": "edf34e3d",
   "metadata": {},
   "source": [
    "The first thing we will look at are the damage types and their increasing scalability. They range from any source of damage that can be dealt by either the player or pearl drone. Such as main weapon, sub weapon, special weapon, pearl drone abilities and stage mechanics like the towers sprinkler."
   ]
  },
  {
   "cell_type": "code",
   "execution_count": 68,
   "id": "11ec2460",
   "metadata": {},
   "outputs": [
    {
     "data": {
      "application/vnd.jupyter.widget-view+json": {
       "model_id": "4d806f5febd34bcb9d145c47206c56d4",
       "version_major": 2,
       "version_minor": 0
      },
      "text/plain": [
       "interactive(children=(Dropdown(description='Ink Damage:', options=(100.0, 105.0, 110.0, 115.0, 120.0, 150.0, 1…"
      ]
     },
     "metadata": {},
     "output_type": "display_data"
    },
    {
     "data": {
      "text/plain": [
       "<function __main__.show_powerchip_categories(ink_damage_percent=100, splash_damage_percent=100, main_damage_close_percent=100, main_damage_distant_percent=100)>"
      ]
     },
     "execution_count": 68,
     "metadata": {},
     "output_type": "execute_result"
    }
   ],
   "source": [
    "main_weapons = pd.read_csv('../data/colorchips & damage/damage categories/main_weapons.csv')\n",
    "power_colorchips = pd.read_csv('../data/colorchips & damage/colorchips/power_colorchips.csv', header=0)\n",
    "\n",
    "\n",
    "def extract_percentage(value_with_percent):\n",
    "    if isinstance(value_with_percent, str):\n",
    "        return float(value_with_percent.strip('%'))\n",
    "    else:\n",
    "        return value_with_percent\n",
    "\n",
    "# Apply the function to extract numerical values\n",
    "power_colorchips['Ink Damage'] = power_colorchips['Ink Damage'].apply(extract_percentage)\n",
    "power_colorchips['Splash Damage'] = power_colorchips['Splash Damage'].apply(extract_percentage)\n",
    "power_colorchips['Main Damage (Close)'] = power_colorchips['Main Damage (Close)'].apply(extract_percentage)\n",
    "power_colorchips['Main Damage (Distant)'] = power_colorchips['Main Damage (Distant)'].apply(extract_percentage)\n",
    "\n",
    "# Unique values for dropdowns\n",
    "ink_damage = power_colorchips['Ink Damage'].unique()\n",
    "splash_damage = power_colorchips['Splash Damage'].unique()\n",
    "main_damage_close = power_colorchips['Main Damage (Close)'].unique()\n",
    "main_damage_distant = power_colorchips['Main Damage (Distant)'].unique()\n",
    "\n",
    "# Function to update base damage and plot\n",
    "def update_base_damage(ink_damage_percent=100, splash_damage_percent=100, \n",
    "                       main_damage_close_percent=100, main_damage_distant_percent=100):\n",
    "    # Calculate updated base damage values based on the selected percentages\n",
    "    percentage_factors = np.array([ink_damage_percent, splash_damage_percent, \n",
    "                                   main_damage_close_percent, main_damage_distant_percent]) / 100\n",
    "    main_weapons['updated_base_damage'] = main_weapons['base damage value'] * np.prod(percentage_factors)\n",
    "    \n",
    "    # Create the bar plot\n",
    "    fig, ax = plt.subplots(figsize=(10, 6))  # Adjust figsize as needed\n",
    "    ax.barh(main_weapons['weapon type'], main_weapons['updated_base_damage'])\n",
    "\n",
    "    # Customize the plot\n",
    "    ax.set_ylabel('Weapon Type')\n",
    "    ax.set_xlabel('Updated Base Damage Value')\n",
    "    ax.set_title('Updated Base Damage Value of Main Weapons')\n",
    "    ax.grid(True, linestyle='--', linewidth=0.5, zorder=1, color='black')\n",
    "    ax.set_axisbelow(True)\n",
    "\n",
    "    # Display the plot\n",
    "    plt.tight_layout()  # Adjust layout for better spacing\n",
    "    plt.show()\n",
    "\n",
    "# Create the interactive dropdowns\n",
    "def show_powerchip_categories(ink_damage_percent=100, splash_damage_percent=100,\n",
    "                               main_damage_close_percent=100, main_damage_distant_percent=100):\n",
    "    update_base_damage(ink_damage_percent, splash_damage_percent, \n",
    "                       main_damage_close_percent, main_damage_distant_percent)\n",
    "\n",
    "ink_dropdown = Dropdown(\n",
    "    options=ink_damage,\n",
    "    value=100,\n",
    "    description='Ink Damage:',\n",
    "    style={'description_width': 'initial'}\n",
    ")\n",
    "\n",
    "splash_dropdown = Dropdown(\n",
    "    options=splash_damage,\n",
    "    value=100,\n",
    "    description='Splash Damage:',\n",
    "    style={'description_width': 'initial'}\n",
    ")\n",
    "\n",
    "close_dropdown = Dropdown(\n",
    "    options=main_damage_close,\n",
    "    value=100,\n",
    "    description='Main Damage (Close):',\n",
    "    style={'description_width': 'initial'}\n",
    ")\n",
    "\n",
    "distant_dropdown = Dropdown(\n",
    "    options=main_damage_distant,\n",
    "    value=100,\n",
    "    description='Main Damage (Distant):',\n",
    "    style={'description_width': 'initial'}\n",
    ")\n",
    "\n",
    "interact(show_powerchip_categories,\n",
    "         ink_damage_percent=ink_dropdown,\n",
    "         splash_damage_percent=splash_dropdown,\n",
    "         main_damage_close_percent=close_dropdown,\n",
    "         main_damage_distant_percent=distant_dropdown\n",
    "        )"
   ]
  }
 ],
 "metadata": {
  "kernelspec": {
   "display_name": "Python 3 (ipykernel)",
   "language": "python",
   "name": "python3"
  },
  "language_info": {
   "codemirror_mode": {
    "name": "ipython",
    "version": 3
   },
   "file_extension": ".py",
   "mimetype": "text/x-python",
   "name": "python",
   "nbconvert_exporter": "python",
   "pygments_lexer": "ipython3",
   "version": "3.11.4"
  }
 },
 "nbformat": 4,
 "nbformat_minor": 5
}
