{
 "cells": [
  {
   "cell_type": "markdown",
   "id": "72b351d3-3c9c-46b5-9391-93d40d447c8f",
   "metadata": {},
   "source": [
    "### **Splatoon 3 side order  in depth analysis**"
   ]
  },
  {
   "cell_type": "markdown",
   "id": "e3d124ba",
   "metadata": {},
   "source": [
    "Side order is the latest released single player dlc for splatoon 3 on the nintendo switch. The gamemode is structured in a roadlike game, with progress being tracked by the amount of floors the player has went up.\n",
    "there are a total of 30 floors after the first climb of 10 floors. Each floor will progress in difficulty, but does allow the oppurtunity for the player to enhance their weapons & abilities.\n",
    "\n",
    "<img src=\"../images/side-order-main-image.webp\" alt=\"Side order image\" width=\"300\">\n",
    "\n",
    "These upgrades can be acquired by collecting colorchips. There are 6 categories in wich a colorchip can increase different damage, movement, mobility or even the pearl drone enhancements. The last importent feature is the Marina hacks that you can boost by (prlz) wich are the ingame currency for leveling them. Marina's hacks mostly involve player durability, lives and armor statistics."
   ]
  },
  {
   "cell_type": "code",
   "execution_count": 2,
   "id": "36825906-a2ae-464b-8989-cd1e42498a85",
   "metadata": {},
   "outputs": [],
   "source": [
    "from matplotlib import pyplot as plt\n",
    "import numpy as np\n",
    "import pandas as pd\n",
    "import plotly.graph_objs as go\n",
    "import ipywidgets as widgets\n",
    "from plotly.subplots import make_subplots"
   ]
  },
  {
   "cell_type": "markdown",
   "id": "edf34e3d",
   "metadata": {},
   "source": [
    "The first thing we will look at are the damage types and their increasing scalability. They range from any source of damage that can be dealt by either the player or pearl drone. Such as main weapon, sub weapon, special weapon, pearl drone abilities and stage mechanics like the towers sprinkler."
   ]
  },
  {
   "cell_type": "code",
   "execution_count": 44,
   "id": "11ec2460",
   "metadata": {},
   "outputs": [
    {
     "data": {
      "application/vnd.plotly.v1+json": {
       "config": {
        "plotlyServerURL": "https://plot.ly"
       },
       "data": [
        {
         "hoverinfo": "text",
         "mode": "lines+markers",
         "name": "Ink Damage",
         "text": [
          "Stage: 1<br>Ink Damage: 100.0%",
          "Stage: 2<br>Ink Damage: 105.0%",
          "Stage: 3<br>Ink Damage: 110.0%",
          "Stage: 4<br>Ink Damage: 115.0%",
          "Stage: 5<br>Ink Damage: 120.0%",
          "Stage: 6<br>Ink Damage: 150.0%",
          "Stage: 7<br>Ink Damage: 155.0%",
          "Stage: 8<br>Ink Damage: 160.0%",
          "Stage: 9<br>Ink Damage: 165.0%",
          "Stage: 10<br>Ink Damage: 200.0%",
          "Stage: 11<br>Ink Damage: nan%",
          "Stage: 12<br>Ink Damage: nan%",
          "Stage: 13<br>Ink Damage: nan%",
          "Stage: 14<br>Ink Damage: nan%",
          "Stage: 15<br>Ink Damage: nan%"
         ],
         "type": "scatter",
         "visible": true,
         "x": [
          1,
          2,
          3,
          4,
          5,
          6,
          7,
          8,
          9,
          10,
          11,
          12,
          13,
          14,
          15
         ],
         "y": [
          100,
          105,
          110,
          115,
          120,
          150,
          155,
          160,
          165,
          200,
          null,
          null,
          null,
          null,
          null
         ]
        },
        {
         "hoverinfo": "text",
         "mode": "lines+markers",
         "name": "Splash Damage",
         "text": [
          "Stage: 1<br>Splash Damage: 100.0%",
          "Stage: 2<br>Splash Damage: 130.0%",
          "Stage: 3<br>Splash Damage: 160.0%",
          "Stage: 4<br>Splash Damage: 190.0%",
          "Stage: 5<br>Splash Damage: 210.0%",
          "Stage: 6<br>Splash Damage: 300.0%",
          "Stage: 7<br>Splash Damage: 330.0%",
          "Stage: 8<br>Splash Damage: 360.0%",
          "Stage: 9<br>Splash Damage: 390.0%",
          "Stage: 10<br>Splash Damage: 500.0%",
          "Stage: 11<br>Splash Damage: nan%",
          "Stage: 12<br>Splash Damage: nan%",
          "Stage: 13<br>Splash Damage: nan%",
          "Stage: 14<br>Splash Damage: nan%",
          "Stage: 15<br>Splash Damage: nan%"
         ],
         "type": "scatter",
         "visible": true,
         "x": [
          1,
          2,
          3,
          4,
          5,
          6,
          7,
          8,
          9,
          10,
          11,
          12,
          13,
          14,
          15
         ],
         "y": [
          100,
          130,
          160,
          190,
          210,
          300,
          330,
          360,
          390,
          500,
          null,
          null,
          null,
          null,
          null
         ]
        },
        {
         "hoverinfo": "text",
         "mode": "lines+markers",
         "name": "Sound-Wave Damage",
         "text": [
          "Stage: 1<br>Sound-Wave Damage: 100.0%",
          "Stage: 2<br>Sound-Wave Damage: 150.0%",
          "Stage: 3<br>Sound-Wave Damage: 200.0%",
          "Stage: 4<br>Sound-Wave Damage: 250.0%",
          "Stage: 5<br>Sound-Wave Damage: 300.0%",
          "Stage: 6<br>Sound-Wave Damage: 500.0%",
          "Stage: 7<br>Sound-Wave Damage: nan%",
          "Stage: 8<br>Sound-Wave Damage: nan%",
          "Stage: 9<br>Sound-Wave Damage: nan%",
          "Stage: 10<br>Sound-Wave Damage: nan%",
          "Stage: 11<br>Sound-Wave Damage: nan%",
          "Stage: 12<br>Sound-Wave Damage: nan%",
          "Stage: 13<br>Sound-Wave Damage: nan%",
          "Stage: 14<br>Sound-Wave Damage: nan%",
          "Stage: 15<br>Sound-Wave Damage: nan%"
         ],
         "type": "scatter",
         "visible": true,
         "x": [
          1,
          2,
          3,
          4,
          5,
          6,
          7,
          8,
          9,
          10,
          11,
          12,
          13,
          14,
          15
         ],
         "y": [
          100,
          150,
          200,
          250,
          300,
          500,
          null,
          null,
          null,
          null,
          null,
          null,
          null,
          null,
          null
         ]
        },
        {
         "hoverinfo": "text",
         "mode": "lines+markers",
         "name": "Main Fire Speed (Duelie)",
         "text": [
          "Stage: 1<br>Main Fire Speed (Duelie): 100.0%",
          "Stage: 2<br>Main Fire Speed (Duelie): 117.0%",
          "Stage: 3<br>Main Fire Speed (Duelie): 140.0%",
          "Stage: 4<br>Main Fire Speed (Duelie): 175.0%",
          "Stage: 5<br>Main Fire Speed (Duelie): 233.0%",
          "Stage: 6<br>Main Fire Speed (Duelie): 350.0%",
          "Stage: 7<br>Main Fire Speed (Duelie): nan%",
          "Stage: 8<br>Main Fire Speed (Duelie): nan%",
          "Stage: 9<br>Main Fire Speed (Duelie): nan%",
          "Stage: 10<br>Main Fire Speed (Duelie): nan%",
          "Stage: 11<br>Main Fire Speed (Duelie): nan%",
          "Stage: 12<br>Main Fire Speed (Duelie): nan%",
          "Stage: 13<br>Main Fire Speed (Duelie): nan%",
          "Stage: 14<br>Main Fire Speed (Duelie): nan%",
          "Stage: 15<br>Main Fire Speed (Duelie): nan%"
         ],
         "type": "scatter",
         "visible": true,
         "x": [
          1,
          2,
          3,
          4,
          5,
          6,
          7,
          8,
          9,
          10,
          11,
          12,
          13,
          14,
          15
         ],
         "y": [
          100,
          117,
          140,
          175,
          233,
          350,
          null,
          null,
          null,
          null,
          null,
          null,
          null,
          null,
          null
         ]
        },
        {
         "hoverinfo": "text",
         "mode": "lines+markers",
         "name": "Main Fire Speed (Splattershot)",
         "text": [
          "Stage: 1<br>Main Fire Speed (Splattershot): 100.0%",
          "Stage: 2<br>Main Fire Speed (Splattershot): 114.0%",
          "Stage: 3<br>Main Fire Speed (Splattershot): 133.0%",
          "Stage: 4<br>Main Fire Speed (Splattershot): 160.0%",
          "Stage: 5<br>Main Fire Speed (Splattershot): 200.0%",
          "Stage: 6<br>Main Fire Speed (Splattershot): 266.0%",
          "Stage: 7<br>Main Fire Speed (Splattershot): nan%",
          "Stage: 8<br>Main Fire Speed (Splattershot): nan%",
          "Stage: 9<br>Main Fire Speed (Splattershot): nan%",
          "Stage: 10<br>Main Fire Speed (Splattershot): nan%",
          "Stage: 11<br>Main Fire Speed (Splattershot): nan%",
          "Stage: 12<br>Main Fire Speed (Splattershot): nan%",
          "Stage: 13<br>Main Fire Speed (Splattershot): nan%",
          "Stage: 14<br>Main Fire Speed (Splattershot): nan%",
          "Stage: 15<br>Main Fire Speed (Splattershot): nan%"
         ],
         "type": "scatter",
         "visible": true,
         "x": [
          1,
          2,
          3,
          4,
          5,
          6,
          7,
          8,
          9,
          10,
          11,
          12,
          13,
          14,
          15
         ],
         "y": [
          100,
          114,
          133,
          160,
          200,
          266,
          null,
          null,
          null,
          null,
          null,
          null,
          null,
          null,
          null
         ]
        },
        {
         "hoverinfo": "text",
         "mode": "lines+markers",
         "name": "Main Fire Speed (Brella)",
         "text": [
          "Stage: 1<br>Main Fire Speed (Brella): 100.0%",
          "Stage: 2<br>Main Fire Speed (Brella): 117.0%",
          "Stage: 3<br>Main Fire Speed (Brella): 126.0%",
          "Stage: 4<br>Main Fire Speed (Brella): 136.0%",
          "Stage: 5<br>Main Fire Speed (Brella): 148.0%",
          "Stage: 6<br>Main Fire Speed (Brella): 200.0%",
          "Stage: 7<br>Main Fire Speed (Brella): nan%",
          "Stage: 8<br>Main Fire Speed (Brella): nan%",
          "Stage: 9<br>Main Fire Speed (Brella): nan%",
          "Stage: 10<br>Main Fire Speed (Brella): nan%",
          "Stage: 11<br>Main Fire Speed (Brella): nan%",
          "Stage: 12<br>Main Fire Speed (Brella): nan%",
          "Stage: 13<br>Main Fire Speed (Brella): nan%",
          "Stage: 14<br>Main Fire Speed (Brella): nan%",
          "Stage: 15<br>Main Fire Speed (Brella): nan%"
         ],
         "type": "scatter",
         "visible": true,
         "x": [
          1,
          2,
          3,
          4,
          5,
          6,
          7,
          8,
          9,
          10,
          11,
          12,
          13,
          14,
          15
         ],
         "y": [
          100,
          117,
          126,
          136,
          148,
          200,
          null,
          null,
          null,
          null,
          null,
          null,
          null,
          null,
          null
         ]
        },
        {
         "hoverinfo": "text",
         "mode": "lines+markers",
         "name": "Main Fire Speed (Roller)",
         "text": [
          "Stage: 1<br>Main Fire Speed (Roller): 100.0%",
          "Stage: 2<br>Main Fire Speed (Roller): 121.0%",
          "Stage: 3<br>Main Fire Speed (Roller): 144.0%",
          "Stage: 4<br>Main Fire Speed (Roller): 177.0%",
          "Stage: 5<br>Main Fire Speed (Roller): 209.0%",
          "Stage: 6<br>Main Fire Speed (Roller): 328.0%",
          "Stage: 7<br>Main Fire Speed (Roller): nan%",
          "Stage: 8<br>Main Fire Speed (Roller): nan%",
          "Stage: 9<br>Main Fire Speed (Roller): nan%",
          "Stage: 10<br>Main Fire Speed (Roller): nan%",
          "Stage: 11<br>Main Fire Speed (Roller): nan%",
          "Stage: 12<br>Main Fire Speed (Roller): nan%",
          "Stage: 13<br>Main Fire Speed (Roller): nan%",
          "Stage: 14<br>Main Fire Speed (Roller): nan%",
          "Stage: 15<br>Main Fire Speed (Roller): nan%"
         ],
         "type": "scatter",
         "visible": true,
         "x": [
          1,
          2,
          3,
          4,
          5,
          6,
          7,
          8,
          9,
          10,
          11,
          12,
          13,
          14,
          15
         ],
         "y": [
          100,
          121,
          144,
          177,
          209,
          328,
          null,
          null,
          null,
          null,
          null,
          null,
          null,
          null,
          null
         ]
        },
        {
         "hoverinfo": "text",
         "mode": "lines+markers",
         "name": "Main Fire Speed (Brush)",
         "text": [
          "Stage: 1<br>Main Fire Speed (Brush): 100.0%",
          "Stage: 2<br>Main Fire Speed (Brush): 125.0%",
          "Stage: 3<br>Main Fire Speed (Brush): 136.0%",
          "Stage: 4<br>Main Fire Speed (Brush): 150.0%",
          "Stage: 5<br>Main Fire Speed (Brush): 167.0%",
          "Stage: 6<br>Main Fire Speed (Brush): 250.0%",
          "Stage: 7<br>Main Fire Speed (Brush): nan%",
          "Stage: 8<br>Main Fire Speed (Brush): nan%",
          "Stage: 9<br>Main Fire Speed (Brush): nan%",
          "Stage: 10<br>Main Fire Speed (Brush): nan%",
          "Stage: 11<br>Main Fire Speed (Brush): nan%",
          "Stage: 12<br>Main Fire Speed (Brush): nan%",
          "Stage: 13<br>Main Fire Speed (Brush): nan%",
          "Stage: 14<br>Main Fire Speed (Brush): nan%",
          "Stage: 15<br>Main Fire Speed (Brush): nan%"
         ],
         "type": "scatter",
         "visible": true,
         "x": [
          1,
          2,
          3,
          4,
          5,
          6,
          7,
          8,
          9,
          10,
          11,
          12,
          13,
          14,
          15
         ],
         "y": [
          100,
          125,
          136,
          150,
          167,
          250,
          null,
          null,
          null,
          null,
          null,
          null,
          null,
          null,
          null
         ]
        },
        {
         "hoverinfo": "text",
         "mode": "lines+markers",
         "name": "Main Fire Speed (Blaster)",
         "text": [
          "Stage: 1<br>Main Fire Speed (Blaster): 100.0%",
          "Stage: 2<br>Main Fire Speed (Blaster): 150.0%",
          "Stage: 3<br>Main Fire Speed (Blaster): 200.0%",
          "Stage: 4<br>Main Fire Speed (Blaster): 273.0%",
          "Stage: 5<br>Main Fire Speed (Blaster): 375.0%",
          "Stage: 6<br>Main Fire Speed (Blaster): 1000.0%",
          "Stage: 7<br>Main Fire Speed (Blaster): nan%",
          "Stage: 8<br>Main Fire Speed (Blaster): nan%",
          "Stage: 9<br>Main Fire Speed (Blaster): nan%",
          "Stage: 10<br>Main Fire Speed (Blaster): nan%",
          "Stage: 11<br>Main Fire Speed (Blaster): nan%",
          "Stage: 12<br>Main Fire Speed (Blaster): nan%",
          "Stage: 13<br>Main Fire Speed (Blaster): nan%",
          "Stage: 14<br>Main Fire Speed (Blaster): nan%",
          "Stage: 15<br>Main Fire Speed (Blaster): nan%"
         ],
         "type": "scatter",
         "visible": true,
         "x": [
          1,
          2,
          3,
          4,
          5,
          6,
          7,
          8,
          9,
          10,
          11,
          12,
          13,
          14,
          15
         ],
         "y": [
          100,
          150,
          200,
          273,
          375,
          1000,
          null,
          null,
          null,
          null,
          null,
          null,
          null,
          null,
          null
         ]
        },
        {
         "hoverinfo": "text",
         "mode": "lines+markers",
         "name": "Main Fire Speed (Slosher)",
         "text": [
          "Stage: 1<br>Main Fire Speed (Slosher): 100.0%",
          "Stage: 2<br>Main Fire Speed (Slosher): 117.0%",
          "Stage: 3<br>Main Fire Speed (Slosher): 131.0%",
          "Stage: 4<br>Main Fire Speed (Slosher): 148.0%",
          "Stage: 5<br>Main Fire Speed (Slosher): 170.0%",
          "Stage: 6<br>Main Fire Speed (Slosher): 227.0%",
          "Stage: 7<br>Main Fire Speed (Slosher): nan%",
          "Stage: 8<br>Main Fire Speed (Slosher): nan%",
          "Stage: 9<br>Main Fire Speed (Slosher): nan%",
          "Stage: 10<br>Main Fire Speed (Slosher): nan%",
          "Stage: 11<br>Main Fire Speed (Slosher): nan%",
          "Stage: 12<br>Main Fire Speed (Slosher): nan%",
          "Stage: 13<br>Main Fire Speed (Slosher): nan%",
          "Stage: 14<br>Main Fire Speed (Slosher): nan%",
          "Stage: 15<br>Main Fire Speed (Slosher): nan%"
         ],
         "type": "scatter",
         "visible": true,
         "x": [
          1,
          2,
          3,
          4,
          5,
          6,
          7,
          8,
          9,
          10,
          11,
          12,
          13,
          14,
          15
         ],
         "y": [
          100,
          117,
          131,
          148,
          170,
          227,
          null,
          null,
          null,
          null,
          null,
          null,
          null,
          null,
          null
         ]
        },
        {
         "hoverinfo": "text",
         "mode": "lines+markers",
         "name": "Horizontal-Slash Speed",
         "text": [
          "Stage: 1<br>Horizontal-Slash Speed: 100.0%",
          "Stage: 2<br>Horizontal-Slash Speed: 118.0%",
          "Stage: 3<br>Horizontal-Slash Speed: 137.0%",
          "Stage: 4<br>Horizontal-Slash Speed: 162.0%",
          "Stage: 5<br>Horizontal-Slash Speed: 200.0%",
          "Stage: 6<br>Horizontal-Slash Speed: 260.0%",
          "Stage: 7<br>Horizontal-Slash Speed: nan%",
          "Stage: 8<br>Horizontal-Slash Speed: nan%",
          "Stage: 9<br>Horizontal-Slash Speed: nan%",
          "Stage: 10<br>Horizontal-Slash Speed: nan%",
          "Stage: 11<br>Horizontal-Slash Speed: nan%",
          "Stage: 12<br>Horizontal-Slash Speed: nan%",
          "Stage: 13<br>Horizontal-Slash Speed: nan%",
          "Stage: 14<br>Horizontal-Slash Speed: nan%",
          "Stage: 15<br>Horizontal-Slash Speed: nan%"
         ],
         "type": "scatter",
         "visible": true,
         "x": [
          1,
          2,
          3,
          4,
          5,
          6,
          7,
          8,
          9,
          10,
          11,
          12,
          13,
          14,
          15
         ],
         "y": [
          100,
          118,
          137,
          162,
          200,
          260,
          null,
          null,
          null,
          null,
          null,
          null,
          null,
          null,
          null
         ]
        },
        {
         "hoverinfo": "text",
         "mode": "lines+markers",
         "name": "Splatling Barrage",
         "text": [
          "Stage: 1<br>Splatling Barrage: 100.0%",
          "Stage: 2<br>Splatling Barrage: 121.0%",
          "Stage: 3<br>Splatling Barrage: 133.0%",
          "Stage: 4<br>Splatling Barrage: 145.0%",
          "Stage: 5<br>Splatling Barrage: 160.0%",
          "Stage: 6<br>Splatling Barrage: 200.0%",
          "Stage: 7<br>Splatling Barrage: nan%",
          "Stage: 8<br>Splatling Barrage: nan%",
          "Stage: 9<br>Splatling Barrage: nan%",
          "Stage: 10<br>Splatling Barrage: nan%",
          "Stage: 11<br>Splatling Barrage: nan%",
          "Stage: 12<br>Splatling Barrage: nan%",
          "Stage: 13<br>Splatling Barrage: nan%",
          "Stage: 14<br>Splatling Barrage: nan%",
          "Stage: 15<br>Splatling Barrage: nan%"
         ],
         "type": "scatter",
         "visible": true,
         "x": [
          1,
          2,
          3,
          4,
          5,
          6,
          7,
          8,
          9,
          10,
          11,
          12,
          13,
          14,
          15
         ],
         "y": [
          100,
          121,
          133,
          145,
          160,
          200,
          null,
          null,
          null,
          null,
          null,
          null,
          null,
          null,
          null
         ]
        },
        {
         "hoverinfo": "text",
         "mode": "lines+markers",
         "name": "Main Damage (Close)",
         "text": [
          "Stage: 1<br>Main Damage (Close): 100.0%",
          "Stage: 2<br>Main Damage (Close): 115.0%",
          "Stage: 3<br>Main Damage (Close): 130.0%",
          "Stage: 4<br>Main Damage (Close): 145.0%",
          "Stage: 5<br>Main Damage (Close): 160.0%",
          "Stage: 6<br>Main Damage (Close): 200.0%",
          "Stage: 7<br>Main Damage (Close): nan%",
          "Stage: 8<br>Main Damage (Close): nan%",
          "Stage: 9<br>Main Damage (Close): nan%",
          "Stage: 10<br>Main Damage (Close): nan%",
          "Stage: 11<br>Main Damage (Close): nan%",
          "Stage: 12<br>Main Damage (Close): nan%",
          "Stage: 13<br>Main Damage (Close): nan%",
          "Stage: 14<br>Main Damage (Close): nan%",
          "Stage: 15<br>Main Damage (Close): nan%"
         ],
         "type": "scatter",
         "visible": true,
         "x": [
          1,
          2,
          3,
          4,
          5,
          6,
          7,
          8,
          9,
          10,
          11,
          12,
          13,
          14,
          15
         ],
         "y": [
          100,
          115,
          130,
          145,
          160,
          200,
          null,
          null,
          null,
          null,
          null,
          null,
          null,
          null,
          null
         ]
        },
        {
         "hoverinfo": "text",
         "mode": "lines+markers",
         "name": "Main Damage (Distant)",
         "text": [
          "Stage: 1<br>Main Damage (Distant): 100.0%",
          "Stage: 2<br>Main Damage (Distant): 115.0%",
          "Stage: 3<br>Main Damage (Distant): 130.0%",
          "Stage: 4<br>Main Damage (Distant): 145.0%",
          "Stage: 5<br>Main Damage (Distant): 160.0%",
          "Stage: 6<br>Main Damage (Distant): 200.0%",
          "Stage: 7<br>Main Damage (Distant): nan%",
          "Stage: 8<br>Main Damage (Distant): nan%",
          "Stage: 9<br>Main Damage (Distant): nan%",
          "Stage: 10<br>Main Damage (Distant): nan%",
          "Stage: 11<br>Main Damage (Distant): nan%",
          "Stage: 12<br>Main Damage (Distant): nan%",
          "Stage: 13<br>Main Damage (Distant): nan%",
          "Stage: 14<br>Main Damage (Distant): nan%",
          "Stage: 15<br>Main Damage (Distant): nan%"
         ],
         "type": "scatter",
         "visible": true,
         "x": [
          1,
          2,
          3,
          4,
          5,
          6,
          7,
          8,
          9,
          10,
          11,
          12,
          13,
          14,
          15
         ],
         "y": [
          100,
          115,
          130,
          145,
          160,
          200,
          null,
          null,
          null,
          null,
          null,
          null,
          null,
          null,
          null
         ]
        },
        {
         "hoverinfo": "text",
         "mode": "lines+markers",
         "name": "Poison Ink",
         "text": [
          "Stage: 1<br>Poison Ink: 100.0%",
          "Stage: 2<br>Poison Ink: 300.0%",
          "Stage: 3<br>Poison Ink: 400.0%",
          "Stage: 4<br>Poison Ink: 500.0%",
          "Stage: 5<br>Poison Ink: 600.0%",
          "Stage: 6<br>Poison Ink: 800.0%",
          "Stage: 7<br>Poison Ink: nan%",
          "Stage: 8<br>Poison Ink: nan%",
          "Stage: 9<br>Poison Ink: nan%",
          "Stage: 10<br>Poison Ink: nan%",
          "Stage: 11<br>Poison Ink: nan%",
          "Stage: 12<br>Poison Ink: nan%",
          "Stage: 13<br>Poison Ink: nan%",
          "Stage: 14<br>Poison Ink: nan%",
          "Stage: 15<br>Poison Ink: nan%"
         ],
         "type": "scatter",
         "visible": true,
         "x": [
          1,
          2,
          3,
          4,
          5,
          6,
          7,
          8,
          9,
          10,
          11,
          12,
          13,
          14,
          15
         ],
         "y": [
          100,
          300,
          400,
          500,
          600,
          800,
          null,
          null,
          null,
          null,
          null,
          null,
          null,
          null,
          null
         ]
        },
        {
         "hoverinfo": "text",
         "mode": "lines+markers",
         "name": "Ink Attack Size",
         "text": [
          "Stage: 1<br>Ink Attack Size: 100.0%",
          "Stage: 2<br>Ink Attack Size: 190.0%",
          "Stage: 3<br>Ink Attack Size: 235.0%",
          "Stage: 4<br>Ink Attack Size: 280.0%",
          "Stage: 5<br>Ink Attack Size: 310.0%",
          "Stage: 6<br>Ink Attack Size: 400.0%",
          "Stage: 7<br>Ink Attack Size: nan%",
          "Stage: 8<br>Ink Attack Size: nan%",
          "Stage: 9<br>Ink Attack Size: nan%",
          "Stage: 10<br>Ink Attack Size: nan%",
          "Stage: 11<br>Ink Attack Size: nan%",
          "Stage: 12<br>Ink Attack Size: nan%",
          "Stage: 13<br>Ink Attack Size: nan%",
          "Stage: 14<br>Ink Attack Size: nan%",
          "Stage: 15<br>Ink Attack Size: nan%",
          "Stage: 16<br>Ink Attack Size: nan%",
          "Stage: 17<br>Ink Attack Size: nan%",
          "Stage: 18<br>Ink Attack Size: nan%",
          "Stage: 19<br>Ink Attack Size: nan%",
          "Stage: 20<br>Ink Attack Size: nan%",
          "Stage: 21<br>Ink Attack Size: nan%",
          "Stage: 22<br>Ink Attack Size: nan%",
          "Stage: 23<br>Ink Attack Size: nan%",
          "Stage: 24<br>Ink Attack Size: nan%",
          "Stage: 25<br>Ink Attack Size: nan%",
          "Stage: 26<br>Ink Attack Size: nan%",
          "Stage: 27<br>Ink Attack Size: nan%",
          "Stage: 28<br>Ink Attack Size: nan%",
          "Stage: 29<br>Ink Attack Size: nan%",
          "Stage: 30<br>Ink Attack Size: nan%",
          "Stage: 31<br>Ink Attack Size: nan%"
         ],
         "type": "scatter",
         "visible": false,
         "x": [
          1,
          2,
          3,
          4,
          5,
          6,
          7,
          8,
          9,
          10,
          11,
          12,
          13,
          14,
          15,
          16,
          17,
          18,
          19,
          20,
          21,
          22,
          23,
          24,
          25,
          26,
          27,
          28,
          29,
          30,
          31
         ],
         "y": [
          100,
          190,
          235,
          280,
          310,
          400,
          null,
          null,
          null,
          null,
          null,
          null,
          null,
          null,
          null,
          null,
          null,
          null,
          null,
          null,
          null,
          null,
          null,
          null,
          null,
          null,
          null,
          null,
          null,
          null,
          null
         ]
        },
        {
         "hoverinfo": "text",
         "mode": "lines+markers",
         "name": "Main Ink Coverage (Blaster)",
         "text": [
          "Stage: 1<br>Main Ink Coverage (Blaster): 100.0%",
          "Stage: 2<br>Main Ink Coverage (Blaster): nan%",
          "Stage: 3<br>Main Ink Coverage (Blaster): nan%",
          "Stage: 4<br>Main Ink Coverage (Blaster): nan%",
          "Stage: 5<br>Main Ink Coverage (Blaster): nan%",
          "Stage: 6<br>Main Ink Coverage (Blaster): nan%",
          "Stage: 7<br>Main Ink Coverage (Blaster): nan%",
          "Stage: 8<br>Main Ink Coverage (Blaster): nan%",
          "Stage: 9<br>Main Ink Coverage (Blaster): nan%",
          "Stage: 10<br>Main Ink Coverage (Blaster): nan%",
          "Stage: 11<br>Main Ink Coverage (Blaster): nan%",
          "Stage: 12<br>Main Ink Coverage (Blaster): nan%",
          "Stage: 13<br>Main Ink Coverage (Blaster): nan%",
          "Stage: 14<br>Main Ink Coverage (Blaster): nan%",
          "Stage: 15<br>Main Ink Coverage (Blaster): nan%",
          "Stage: 16<br>Main Ink Coverage (Blaster): nan%",
          "Stage: 17<br>Main Ink Coverage (Blaster): nan%",
          "Stage: 18<br>Main Ink Coverage (Blaster): nan%",
          "Stage: 19<br>Main Ink Coverage (Blaster): nan%",
          "Stage: 20<br>Main Ink Coverage (Blaster): nan%",
          "Stage: 21<br>Main Ink Coverage (Blaster): nan%",
          "Stage: 22<br>Main Ink Coverage (Blaster): nan%",
          "Stage: 23<br>Main Ink Coverage (Blaster): nan%",
          "Stage: 24<br>Main Ink Coverage (Blaster): nan%",
          "Stage: 25<br>Main Ink Coverage (Blaster): nan%",
          "Stage: 26<br>Main Ink Coverage (Blaster): nan%",
          "Stage: 27<br>Main Ink Coverage (Blaster): nan%",
          "Stage: 28<br>Main Ink Coverage (Blaster): nan%",
          "Stage: 29<br>Main Ink Coverage (Blaster): nan%",
          "Stage: 30<br>Main Ink Coverage (Blaster): nan%",
          "Stage: 31<br>Main Ink Coverage (Blaster): nan%"
         ],
         "type": "scatter",
         "visible": false,
         "x": [
          1,
          2,
          3,
          4,
          5,
          6,
          7,
          8,
          9,
          10,
          11,
          12,
          13,
          14,
          15,
          16,
          17,
          18,
          19,
          20,
          21,
          22,
          23,
          24,
          25,
          26,
          27,
          28,
          29,
          30,
          31
         ],
         "y": [
          100,
          null,
          null,
          null,
          null,
          null,
          null,
          null,
          null,
          null,
          null,
          null,
          null,
          null,
          null,
          null,
          null,
          null,
          null,
          null,
          null,
          null,
          null,
          null,
          null,
          null,
          null,
          null,
          null,
          null,
          null
         ]
        },
        {
         "hoverinfo": "text",
         "mode": "lines+markers",
         "name": "Main Ink Coverage (Bow)",
         "text": [
          "Stage: 1<br>Main Ink Coverage (Bow): 100.0%",
          "Stage: 2<br>Main Ink Coverage (Bow): 125.0%",
          "Stage: 3<br>Main Ink Coverage (Bow): 140.0%",
          "Stage: 4<br>Main Ink Coverage (Bow): 155.0%",
          "Stage: 5<br>Main Ink Coverage (Bow): 165.0%",
          "Stage: 6<br>Main Ink Coverage (Bow): 200.0%",
          "Stage: 7<br>Main Ink Coverage (Bow): nan%",
          "Stage: 8<br>Main Ink Coverage (Bow): nan%",
          "Stage: 9<br>Main Ink Coverage (Bow): nan%",
          "Stage: 10<br>Main Ink Coverage (Bow): nan%",
          "Stage: 11<br>Main Ink Coverage (Bow): nan%",
          "Stage: 12<br>Main Ink Coverage (Bow): nan%",
          "Stage: 13<br>Main Ink Coverage (Bow): nan%",
          "Stage: 14<br>Main Ink Coverage (Bow): nan%",
          "Stage: 15<br>Main Ink Coverage (Bow): nan%",
          "Stage: 16<br>Main Ink Coverage (Bow): nan%",
          "Stage: 17<br>Main Ink Coverage (Bow): nan%",
          "Stage: 18<br>Main Ink Coverage (Bow): nan%",
          "Stage: 19<br>Main Ink Coverage (Bow): nan%",
          "Stage: 20<br>Main Ink Coverage (Bow): nan%",
          "Stage: 21<br>Main Ink Coverage (Bow): nan%",
          "Stage: 22<br>Main Ink Coverage (Bow): nan%",
          "Stage: 23<br>Main Ink Coverage (Bow): nan%",
          "Stage: 24<br>Main Ink Coverage (Bow): nan%",
          "Stage: 25<br>Main Ink Coverage (Bow): nan%",
          "Stage: 26<br>Main Ink Coverage (Bow): nan%",
          "Stage: 27<br>Main Ink Coverage (Bow): nan%",
          "Stage: 28<br>Main Ink Coverage (Bow): nan%",
          "Stage: 29<br>Main Ink Coverage (Bow): nan%",
          "Stage: 30<br>Main Ink Coverage (Bow): nan%",
          "Stage: 31<br>Main Ink Coverage (Bow): nan%"
         ],
         "type": "scatter",
         "visible": false,
         "x": [
          1,
          2,
          3,
          4,
          5,
          6,
          7,
          8,
          9,
          10,
          11,
          12,
          13,
          14,
          15,
          16,
          17,
          18,
          19,
          20,
          21,
          22,
          23,
          24,
          25,
          26,
          27,
          28,
          29,
          30,
          31
         ],
         "y": [
          100,
          125,
          140,
          155,
          165,
          200,
          null,
          null,
          null,
          null,
          null,
          null,
          null,
          null,
          null,
          null,
          null,
          null,
          null,
          null,
          null,
          null,
          null,
          null,
          null,
          null,
          null,
          null,
          null,
          null,
          null
         ]
        },
        {
         "hoverinfo": "text",
         "mode": "lines+markers",
         "name": "Main Ink Coverage (Brella)",
         "text": [
          "Stage: 1<br>Main Ink Coverage (Brella): 100.0%",
          "Stage: 2<br>Main Ink Coverage (Brella): 150.0%",
          "Stage: 3<br>Main Ink Coverage (Brella): 170.0%",
          "Stage: 4<br>Main Ink Coverage (Brella): 190.0%",
          "Stage: 5<br>Main Ink Coverage (Brella): 210.0%",
          "Stage: 6<br>Main Ink Coverage (Brella): 260.0%",
          "Stage: 7<br>Main Ink Coverage (Brella): nan%",
          "Stage: 8<br>Main Ink Coverage (Brella): nan%",
          "Stage: 9<br>Main Ink Coverage (Brella): nan%",
          "Stage: 10<br>Main Ink Coverage (Brella): nan%",
          "Stage: 11<br>Main Ink Coverage (Brella): nan%",
          "Stage: 12<br>Main Ink Coverage (Brella): nan%",
          "Stage: 13<br>Main Ink Coverage (Brella): nan%",
          "Stage: 14<br>Main Ink Coverage (Brella): nan%",
          "Stage: 15<br>Main Ink Coverage (Brella): nan%",
          "Stage: 16<br>Main Ink Coverage (Brella): nan%",
          "Stage: 17<br>Main Ink Coverage (Brella): nan%",
          "Stage: 18<br>Main Ink Coverage (Brella): nan%",
          "Stage: 19<br>Main Ink Coverage (Brella): nan%",
          "Stage: 20<br>Main Ink Coverage (Brella): nan%",
          "Stage: 21<br>Main Ink Coverage (Brella): nan%",
          "Stage: 22<br>Main Ink Coverage (Brella): nan%",
          "Stage: 23<br>Main Ink Coverage (Brella): nan%",
          "Stage: 24<br>Main Ink Coverage (Brella): nan%",
          "Stage: 25<br>Main Ink Coverage (Brella): nan%",
          "Stage: 26<br>Main Ink Coverage (Brella): nan%",
          "Stage: 27<br>Main Ink Coverage (Brella): nan%",
          "Stage: 28<br>Main Ink Coverage (Brella): nan%",
          "Stage: 29<br>Main Ink Coverage (Brella): nan%",
          "Stage: 30<br>Main Ink Coverage (Brella): nan%",
          "Stage: 31<br>Main Ink Coverage (Brella): nan%"
         ],
         "type": "scatter",
         "visible": false,
         "x": [
          1,
          2,
          3,
          4,
          5,
          6,
          7,
          8,
          9,
          10,
          11,
          12,
          13,
          14,
          15,
          16,
          17,
          18,
          19,
          20,
          21,
          22,
          23,
          24,
          25,
          26,
          27,
          28,
          29,
          30,
          31
         ],
         "y": [
          100,
          150,
          170,
          190,
          210,
          260,
          null,
          null,
          null,
          null,
          null,
          null,
          null,
          null,
          null,
          null,
          null,
          null,
          null,
          null,
          null,
          null,
          null,
          null,
          null,
          null,
          null,
          null,
          null,
          null,
          null
         ]
        },
        {
         "hoverinfo": "text",
         "mode": "lines+markers",
         "name": "Main Ink Coverage (Brush)",
         "text": [
          "Stage: 1<br>Main Ink Coverage (Brush): 100.0%",
          "Stage: 2<br>Main Ink Coverage (Brush): 165.0%",
          "Stage: 3<br>Main Ink Coverage (Brush): 200.0%",
          "Stage: 4<br>Main Ink Coverage (Brush): 230.0%",
          "Stage: 5<br>Main Ink Coverage (Brush): 250.0%",
          "Stage: 6<br>Main Ink Coverage (Brush): 320.0%",
          "Stage: 7<br>Main Ink Coverage (Brush): nan%",
          "Stage: 8<br>Main Ink Coverage (Brush): nan%",
          "Stage: 9<br>Main Ink Coverage (Brush): nan%",
          "Stage: 10<br>Main Ink Coverage (Brush): nan%",
          "Stage: 11<br>Main Ink Coverage (Brush): nan%",
          "Stage: 12<br>Main Ink Coverage (Brush): nan%",
          "Stage: 13<br>Main Ink Coverage (Brush): nan%",
          "Stage: 14<br>Main Ink Coverage (Brush): nan%",
          "Stage: 15<br>Main Ink Coverage (Brush): nan%",
          "Stage: 16<br>Main Ink Coverage (Brush): nan%",
          "Stage: 17<br>Main Ink Coverage (Brush): nan%",
          "Stage: 18<br>Main Ink Coverage (Brush): nan%",
          "Stage: 19<br>Main Ink Coverage (Brush): nan%",
          "Stage: 20<br>Main Ink Coverage (Brush): nan%",
          "Stage: 21<br>Main Ink Coverage (Brush): nan%",
          "Stage: 22<br>Main Ink Coverage (Brush): nan%",
          "Stage: 23<br>Main Ink Coverage (Brush): nan%",
          "Stage: 24<br>Main Ink Coverage (Brush): nan%",
          "Stage: 25<br>Main Ink Coverage (Brush): nan%",
          "Stage: 26<br>Main Ink Coverage (Brush): nan%",
          "Stage: 27<br>Main Ink Coverage (Brush): nan%",
          "Stage: 28<br>Main Ink Coverage (Brush): nan%",
          "Stage: 29<br>Main Ink Coverage (Brush): nan%",
          "Stage: 30<br>Main Ink Coverage (Brush): nan%",
          "Stage: 31<br>Main Ink Coverage (Brush): nan%"
         ],
         "type": "scatter",
         "visible": false,
         "x": [
          1,
          2,
          3,
          4,
          5,
          6,
          7,
          8,
          9,
          10,
          11,
          12,
          13,
          14,
          15,
          16,
          17,
          18,
          19,
          20,
          21,
          22,
          23,
          24,
          25,
          26,
          27,
          28,
          29,
          30,
          31
         ],
         "y": [
          100,
          165,
          200,
          230,
          250,
          320,
          null,
          null,
          null,
          null,
          null,
          null,
          null,
          null,
          null,
          null,
          null,
          null,
          null,
          null,
          null,
          null,
          null,
          null,
          null,
          null,
          null,
          null,
          null,
          null,
          null
         ]
        },
        {
         "hoverinfo": "text",
         "mode": "lines+markers",
         "name": "Main Ink Coverage (Charger)",
         "text": [
          "Stage: 1<br>Main Ink Coverage (Charger): 100.0%",
          "Stage: 2<br>Main Ink Coverage (Charger): 150.0%",
          "Stage: 3<br>Main Ink Coverage (Charger): 180.0%",
          "Stage: 4<br>Main Ink Coverage (Charger): 210.0%",
          "Stage: 5<br>Main Ink Coverage (Charger): 240.0%",
          "Stage: 6<br>Main Ink Coverage (Charger): 310.0%",
          "Stage: 7<br>Main Ink Coverage (Charger): nan%",
          "Stage: 8<br>Main Ink Coverage (Charger): nan%",
          "Stage: 9<br>Main Ink Coverage (Charger): nan%",
          "Stage: 10<br>Main Ink Coverage (Charger): nan%",
          "Stage: 11<br>Main Ink Coverage (Charger): nan%",
          "Stage: 12<br>Main Ink Coverage (Charger): nan%",
          "Stage: 13<br>Main Ink Coverage (Charger): nan%",
          "Stage: 14<br>Main Ink Coverage (Charger): nan%",
          "Stage: 15<br>Main Ink Coverage (Charger): nan%",
          "Stage: 16<br>Main Ink Coverage (Charger): nan%",
          "Stage: 17<br>Main Ink Coverage (Charger): nan%",
          "Stage: 18<br>Main Ink Coverage (Charger): nan%",
          "Stage: 19<br>Main Ink Coverage (Charger): nan%",
          "Stage: 20<br>Main Ink Coverage (Charger): nan%",
          "Stage: 21<br>Main Ink Coverage (Charger): nan%",
          "Stage: 22<br>Main Ink Coverage (Charger): nan%",
          "Stage: 23<br>Main Ink Coverage (Charger): nan%",
          "Stage: 24<br>Main Ink Coverage (Charger): nan%",
          "Stage: 25<br>Main Ink Coverage (Charger): nan%",
          "Stage: 26<br>Main Ink Coverage (Charger): nan%",
          "Stage: 27<br>Main Ink Coverage (Charger): nan%",
          "Stage: 28<br>Main Ink Coverage (Charger): nan%",
          "Stage: 29<br>Main Ink Coverage (Charger): nan%",
          "Stage: 30<br>Main Ink Coverage (Charger): nan%",
          "Stage: 31<br>Main Ink Coverage (Charger): nan%"
         ],
         "type": "scatter",
         "visible": false,
         "x": [
          1,
          2,
          3,
          4,
          5,
          6,
          7,
          8,
          9,
          10,
          11,
          12,
          13,
          14,
          15,
          16,
          17,
          18,
          19,
          20,
          21,
          22,
          23,
          24,
          25,
          26,
          27,
          28,
          29,
          30,
          31
         ],
         "y": [
          100,
          150,
          180,
          210,
          240,
          310,
          null,
          null,
          null,
          null,
          null,
          null,
          null,
          null,
          null,
          null,
          null,
          null,
          null,
          null,
          null,
          null,
          null,
          null,
          null,
          null,
          null,
          null,
          null,
          null,
          null
         ]
        },
        {
         "hoverinfo": "text",
         "mode": "lines+markers",
         "name": "Main Ink Coverage (Duelie)",
         "text": [
          "Stage: 1<br>Main Ink Coverage (Duelie): 100.0%",
          "Stage: 2<br>Main Ink Coverage (Duelie): 140.0%",
          "Stage: 3<br>Main Ink Coverage (Duelie): 170.0%",
          "Stage: 4<br>Main Ink Coverage (Duelie): 200.0%",
          "Stage: 5<br>Main Ink Coverage (Duelie): 220.0%",
          "Stage: 6<br>Main Ink Coverage (Duelie): 280.0%",
          "Stage: 7<br>Main Ink Coverage (Duelie): nan%",
          "Stage: 8<br>Main Ink Coverage (Duelie): nan%",
          "Stage: 9<br>Main Ink Coverage (Duelie): nan%",
          "Stage: 10<br>Main Ink Coverage (Duelie): nan%",
          "Stage: 11<br>Main Ink Coverage (Duelie): nan%",
          "Stage: 12<br>Main Ink Coverage (Duelie): nan%",
          "Stage: 13<br>Main Ink Coverage (Duelie): nan%",
          "Stage: 14<br>Main Ink Coverage (Duelie): nan%",
          "Stage: 15<br>Main Ink Coverage (Duelie): nan%",
          "Stage: 16<br>Main Ink Coverage (Duelie): nan%",
          "Stage: 17<br>Main Ink Coverage (Duelie): nan%",
          "Stage: 18<br>Main Ink Coverage (Duelie): nan%",
          "Stage: 19<br>Main Ink Coverage (Duelie): nan%",
          "Stage: 20<br>Main Ink Coverage (Duelie): nan%",
          "Stage: 21<br>Main Ink Coverage (Duelie): nan%",
          "Stage: 22<br>Main Ink Coverage (Duelie): nan%",
          "Stage: 23<br>Main Ink Coverage (Duelie): nan%",
          "Stage: 24<br>Main Ink Coverage (Duelie): nan%",
          "Stage: 25<br>Main Ink Coverage (Duelie): nan%",
          "Stage: 26<br>Main Ink Coverage (Duelie): nan%",
          "Stage: 27<br>Main Ink Coverage (Duelie): nan%",
          "Stage: 28<br>Main Ink Coverage (Duelie): nan%",
          "Stage: 29<br>Main Ink Coverage (Duelie): nan%",
          "Stage: 30<br>Main Ink Coverage (Duelie): nan%",
          "Stage: 31<br>Main Ink Coverage (Duelie): nan%"
         ],
         "type": "scatter",
         "visible": false,
         "x": [
          1,
          2,
          3,
          4,
          5,
          6,
          7,
          8,
          9,
          10,
          11,
          12,
          13,
          14,
          15,
          16,
          17,
          18,
          19,
          20,
          21,
          22,
          23,
          24,
          25,
          26,
          27,
          28,
          29,
          30,
          31
         ],
         "y": [
          100,
          140,
          170,
          200,
          220,
          280,
          null,
          null,
          null,
          null,
          null,
          null,
          null,
          null,
          null,
          null,
          null,
          null,
          null,
          null,
          null,
          null,
          null,
          null,
          null,
          null,
          null,
          null,
          null,
          null,
          null
         ]
        },
        {
         "hoverinfo": "text",
         "mode": "lines+markers",
         "name": "Main Ink Coverage (Roller)",
         "text": [
          "Stage: 1<br>Main Ink Coverage (Roller): 100.0%",
          "Stage: 2<br>Main Ink Coverage (Roller): 140.0%",
          "Stage: 3<br>Main Ink Coverage (Roller): 160.0%",
          "Stage: 4<br>Main Ink Coverage (Roller): 180.0%",
          "Stage: 5<br>Main Ink Coverage (Roller): 195.0%",
          "Stage: 6<br>Main Ink Coverage (Roller): 240.0%",
          "Stage: 7<br>Main Ink Coverage (Roller): nan%",
          "Stage: 8<br>Main Ink Coverage (Roller): nan%",
          "Stage: 9<br>Main Ink Coverage (Roller): nan%",
          "Stage: 10<br>Main Ink Coverage (Roller): nan%",
          "Stage: 11<br>Main Ink Coverage (Roller): nan%",
          "Stage: 12<br>Main Ink Coverage (Roller): nan%",
          "Stage: 13<br>Main Ink Coverage (Roller): nan%",
          "Stage: 14<br>Main Ink Coverage (Roller): nan%",
          "Stage: 15<br>Main Ink Coverage (Roller): nan%",
          "Stage: 16<br>Main Ink Coverage (Roller): nan%",
          "Stage: 17<br>Main Ink Coverage (Roller): nan%",
          "Stage: 18<br>Main Ink Coverage (Roller): nan%",
          "Stage: 19<br>Main Ink Coverage (Roller): nan%",
          "Stage: 20<br>Main Ink Coverage (Roller): nan%",
          "Stage: 21<br>Main Ink Coverage (Roller): nan%",
          "Stage: 22<br>Main Ink Coverage (Roller): nan%",
          "Stage: 23<br>Main Ink Coverage (Roller): nan%",
          "Stage: 24<br>Main Ink Coverage (Roller): nan%",
          "Stage: 25<br>Main Ink Coverage (Roller): nan%",
          "Stage: 26<br>Main Ink Coverage (Roller): nan%",
          "Stage: 27<br>Main Ink Coverage (Roller): nan%",
          "Stage: 28<br>Main Ink Coverage (Roller): nan%",
          "Stage: 29<br>Main Ink Coverage (Roller): nan%",
          "Stage: 30<br>Main Ink Coverage (Roller): nan%",
          "Stage: 31<br>Main Ink Coverage (Roller): nan%"
         ],
         "type": "scatter",
         "visible": false,
         "x": [
          1,
          2,
          3,
          4,
          5,
          6,
          7,
          8,
          9,
          10,
          11,
          12,
          13,
          14,
          15,
          16,
          17,
          18,
          19,
          20,
          21,
          22,
          23,
          24,
          25,
          26,
          27,
          28,
          29,
          30,
          31
         ],
         "y": [
          100,
          140,
          160,
          180,
          195,
          240,
          null,
          null,
          null,
          null,
          null,
          null,
          null,
          null,
          null,
          null,
          null,
          null,
          null,
          null,
          null,
          null,
          null,
          null,
          null,
          null,
          null,
          null,
          null,
          null,
          null
         ]
        },
        {
         "hoverinfo": "text",
         "mode": "lines+markers",
         "name": "Main Ink Coverage (Slosher)",
         "text": [
          "Stage: 1<br>Main Ink Coverage (Slosher): 100.0%",
          "Stage: 2<br>Main Ink Coverage (Slosher): 150.0%",
          "Stage: 3<br>Main Ink Coverage (Slosher): 180.0%",
          "Stage: 4<br>Main Ink Coverage (Slosher): 210.0%",
          "Stage: 5<br>Main Ink Coverage (Slosher): 235.0%",
          "Stage: 6<br>Main Ink Coverage (Slosher): 310.0%",
          "Stage: 7<br>Main Ink Coverage (Slosher): nan%",
          "Stage: 8<br>Main Ink Coverage (Slosher): nan%",
          "Stage: 9<br>Main Ink Coverage (Slosher): nan%",
          "Stage: 10<br>Main Ink Coverage (Slosher): nan%",
          "Stage: 11<br>Main Ink Coverage (Slosher): nan%",
          "Stage: 12<br>Main Ink Coverage (Slosher): nan%",
          "Stage: 13<br>Main Ink Coverage (Slosher): nan%",
          "Stage: 14<br>Main Ink Coverage (Slosher): nan%",
          "Stage: 15<br>Main Ink Coverage (Slosher): nan%",
          "Stage: 16<br>Main Ink Coverage (Slosher): nan%",
          "Stage: 17<br>Main Ink Coverage (Slosher): nan%",
          "Stage: 18<br>Main Ink Coverage (Slosher): nan%",
          "Stage: 19<br>Main Ink Coverage (Slosher): nan%",
          "Stage: 20<br>Main Ink Coverage (Slosher): nan%",
          "Stage: 21<br>Main Ink Coverage (Slosher): nan%",
          "Stage: 22<br>Main Ink Coverage (Slosher): nan%",
          "Stage: 23<br>Main Ink Coverage (Slosher): nan%",
          "Stage: 24<br>Main Ink Coverage (Slosher): nan%",
          "Stage: 25<br>Main Ink Coverage (Slosher): nan%",
          "Stage: 26<br>Main Ink Coverage (Slosher): nan%",
          "Stage: 27<br>Main Ink Coverage (Slosher): nan%",
          "Stage: 28<br>Main Ink Coverage (Slosher): nan%",
          "Stage: 29<br>Main Ink Coverage (Slosher): nan%",
          "Stage: 30<br>Main Ink Coverage (Slosher): nan%",
          "Stage: 31<br>Main Ink Coverage (Slosher): nan%"
         ],
         "type": "scatter",
         "visible": false,
         "x": [
          1,
          2,
          3,
          4,
          5,
          6,
          7,
          8,
          9,
          10,
          11,
          12,
          13,
          14,
          15,
          16,
          17,
          18,
          19,
          20,
          21,
          22,
          23,
          24,
          25,
          26,
          27,
          28,
          29,
          30,
          31
         ],
         "y": [
          100,
          150,
          180,
          210,
          235,
          310,
          null,
          null,
          null,
          null,
          null,
          null,
          null,
          null,
          null,
          null,
          null,
          null,
          null,
          null,
          null,
          null,
          null,
          null,
          null,
          null,
          null,
          null,
          null,
          null,
          null
         ]
        },
        {
         "hoverinfo": "text",
         "mode": "lines+markers",
         "name": "Main Ink Coverage (Splatana)",
         "text": [
          "Stage: 1<br>Main Ink Coverage (Splatana): 100.0%",
          "Stage: 2<br>Main Ink Coverage (Splatana): 145.0%",
          "Stage: 3<br>Main Ink Coverage (Splatana): 170.0%",
          "Stage: 4<br>Main Ink Coverage (Splatana): 195.0%",
          "Stage: 5<br>Main Ink Coverage (Splatana): 210.0%",
          "Stage: 6<br>Main Ink Coverage (Splatana): 265.0%",
          "Stage: 7<br>Main Ink Coverage (Splatana): nan%",
          "Stage: 8<br>Main Ink Coverage (Splatana): nan%",
          "Stage: 9<br>Main Ink Coverage (Splatana): nan%",
          "Stage: 10<br>Main Ink Coverage (Splatana): nan%",
          "Stage: 11<br>Main Ink Coverage (Splatana): nan%",
          "Stage: 12<br>Main Ink Coverage (Splatana): nan%",
          "Stage: 13<br>Main Ink Coverage (Splatana): nan%",
          "Stage: 14<br>Main Ink Coverage (Splatana): nan%",
          "Stage: 15<br>Main Ink Coverage (Splatana): nan%",
          "Stage: 16<br>Main Ink Coverage (Splatana): nan%",
          "Stage: 17<br>Main Ink Coverage (Splatana): nan%",
          "Stage: 18<br>Main Ink Coverage (Splatana): nan%",
          "Stage: 19<br>Main Ink Coverage (Splatana): nan%",
          "Stage: 20<br>Main Ink Coverage (Splatana): nan%",
          "Stage: 21<br>Main Ink Coverage (Splatana): nan%",
          "Stage: 22<br>Main Ink Coverage (Splatana): nan%",
          "Stage: 23<br>Main Ink Coverage (Splatana): nan%",
          "Stage: 24<br>Main Ink Coverage (Splatana): nan%",
          "Stage: 25<br>Main Ink Coverage (Splatana): nan%",
          "Stage: 26<br>Main Ink Coverage (Splatana): nan%",
          "Stage: 27<br>Main Ink Coverage (Splatana): nan%",
          "Stage: 28<br>Main Ink Coverage (Splatana): nan%",
          "Stage: 29<br>Main Ink Coverage (Splatana): nan%",
          "Stage: 30<br>Main Ink Coverage (Splatana): nan%",
          "Stage: 31<br>Main Ink Coverage (Splatana): nan%"
         ],
         "type": "scatter",
         "visible": false,
         "x": [
          1,
          2,
          3,
          4,
          5,
          6,
          7,
          8,
          9,
          10,
          11,
          12,
          13,
          14,
          15,
          16,
          17,
          18,
          19,
          20,
          21,
          22,
          23,
          24,
          25,
          26,
          27,
          28,
          29,
          30,
          31
         ],
         "y": [
          100,
          145,
          170,
          195,
          210,
          265,
          null,
          null,
          null,
          null,
          null,
          null,
          null,
          null,
          null,
          null,
          null,
          null,
          null,
          null,
          null,
          null,
          null,
          null,
          null,
          null,
          null,
          null,
          null,
          null,
          null
         ]
        },
        {
         "hoverinfo": "text",
         "mode": "lines+markers",
         "name": "Main Ink Coverage (Splatling)",
         "text": [
          "Stage: 1<br>Main Ink Coverage (Splatling): 100.0%",
          "Stage: 2<br>Main Ink Coverage (Splatling): 150.0%",
          "Stage: 3<br>Main Ink Coverage (Splatling): 180.0%",
          "Stage: 4<br>Main Ink Coverage (Splatling): 220.0%",
          "Stage: 5<br>Main Ink Coverage (Splatling): 240.0%",
          "Stage: 6<br>Main Ink Coverage (Splatling): 330.0%",
          "Stage: 7<br>Main Ink Coverage (Splatling): nan%",
          "Stage: 8<br>Main Ink Coverage (Splatling): nan%",
          "Stage: 9<br>Main Ink Coverage (Splatling): nan%",
          "Stage: 10<br>Main Ink Coverage (Splatling): nan%",
          "Stage: 11<br>Main Ink Coverage (Splatling): nan%",
          "Stage: 12<br>Main Ink Coverage (Splatling): nan%",
          "Stage: 13<br>Main Ink Coverage (Splatling): nan%",
          "Stage: 14<br>Main Ink Coverage (Splatling): nan%",
          "Stage: 15<br>Main Ink Coverage (Splatling): nan%",
          "Stage: 16<br>Main Ink Coverage (Splatling): nan%",
          "Stage: 17<br>Main Ink Coverage (Splatling): nan%",
          "Stage: 18<br>Main Ink Coverage (Splatling): nan%",
          "Stage: 19<br>Main Ink Coverage (Splatling): nan%",
          "Stage: 20<br>Main Ink Coverage (Splatling): nan%",
          "Stage: 21<br>Main Ink Coverage (Splatling): nan%",
          "Stage: 22<br>Main Ink Coverage (Splatling): nan%",
          "Stage: 23<br>Main Ink Coverage (Splatling): nan%",
          "Stage: 24<br>Main Ink Coverage (Splatling): nan%",
          "Stage: 25<br>Main Ink Coverage (Splatling): nan%",
          "Stage: 26<br>Main Ink Coverage (Splatling): nan%",
          "Stage: 27<br>Main Ink Coverage (Splatling): nan%",
          "Stage: 28<br>Main Ink Coverage (Splatling): nan%",
          "Stage: 29<br>Main Ink Coverage (Splatling): nan%",
          "Stage: 30<br>Main Ink Coverage (Splatling): nan%",
          "Stage: 31<br>Main Ink Coverage (Splatling): nan%"
         ],
         "type": "scatter",
         "visible": false,
         "x": [
          1,
          2,
          3,
          4,
          5,
          6,
          7,
          8,
          9,
          10,
          11,
          12,
          13,
          14,
          15,
          16,
          17,
          18,
          19,
          20,
          21,
          22,
          23,
          24,
          25,
          26,
          27,
          28,
          29,
          30,
          31
         ],
         "y": [
          100,
          150,
          180,
          220,
          240,
          330,
          null,
          null,
          null,
          null,
          null,
          null,
          null,
          null,
          null,
          null,
          null,
          null,
          null,
          null,
          null,
          null,
          null,
          null,
          null,
          null,
          null,
          null,
          null,
          null,
          null
         ]
        },
        {
         "hoverinfo": "text",
         "mode": "lines+markers",
         "name": "Swim Speed Up",
         "text": [
          "Stage: 1<br>Swim Speed Up: 100.0%",
          "Stage: 2<br>Swim Speed Up: 122.0%",
          "Stage: 3<br>Swim Speed Up: 131.0%",
          "Stage: 4<br>Swim Speed Up: 140.0%",
          "Stage: 5<br>Swim Speed Up: 148.0%",
          "Stage: 6<br>Swim Speed Up: 166.0%",
          "Stage: 7<br>Swim Speed Up: nan%",
          "Stage: 8<br>Swim Speed Up: nan%",
          "Stage: 10<br>Swim Speed Up: nan%",
          "Stage: 11<br>Swim Speed Up: nan%",
          "Stage: 12<br>Swim Speed Up: nan%",
          "Stage: 13<br>Swim Speed Up: nan%",
          "Stage: 14<br>Swim Speed Up: nan%",
          "Stage: 15<br>Swim Speed Up: nan%"
         ],
         "type": "scatter",
         "visible": false,
         "x": [
          1,
          2,
          3,
          4,
          5,
          6,
          7,
          8,
          10,
          11,
          12,
          13,
          14,
          15
         ],
         "y": [
          100,
          122,
          131,
          140,
          148,
          166,
          null,
          null,
          null,
          null,
          null,
          null,
          null,
          null
         ]
        },
        {
         "hoverinfo": "text",
         "mode": "lines+markers",
         "name": "Run Speed Up",
         "text": [
          "Stage: 1<br>Run Speed Up: 100.0%",
          "Stage: 2<br>Run Speed Up: 133.0%",
          "Stage: 3<br>Run Speed Up: 131.0%",
          "Stage: 4<br>Run Speed Up: 140.0%",
          "Stage: 5<br>Run Speed Up: 148.0%",
          "Stage: 6<br>Run Speed Up: 166.0%",
          "Stage: 7<br>Run Speed Up: nan%",
          "Stage: 8<br>Run Speed Up: nan%",
          "Stage: 10<br>Run Speed Up: nan%",
          "Stage: 11<br>Run Speed Up: nan%",
          "Stage: 12<br>Run Speed Up: nan%",
          "Stage: 13<br>Run Speed Up: nan%",
          "Stage: 14<br>Run Speed Up: nan%",
          "Stage: 15<br>Run Speed Up: nan%"
         ],
         "type": "scatter",
         "visible": false,
         "x": [
          1,
          2,
          3,
          4,
          5,
          6,
          7,
          8,
          10,
          11,
          12,
          13,
          14,
          15
         ],
         "y": [
          100,
          133,
          131,
          140,
          148,
          166,
          null,
          null,
          null,
          null,
          null,
          null,
          null,
          null
         ]
        },
        {
         "hoverinfo": "text",
         "mode": "lines+markers",
         "name": "Moving Ink Speed",
         "text": [
          "Stage: 1<br>Moving Ink Speed: 100.0%",
          "Stage: 2<br>Moving Ink Speed: 130.0%",
          "Stage: 3<br>Moving Ink Speed: 145.0%",
          "Stage: 4<br>Moving Ink Speed: 160.0%",
          "Stage: 5<br>Moving Ink Speed: 170.0%",
          "Stage: 6<br>Moving Ink Speed: 200.0%",
          "Stage: 7<br>Moving Ink Speed: nan%",
          "Stage: 8<br>Moving Ink Speed: nan%",
          "Stage: 10<br>Moving Ink Speed: nan%",
          "Stage: 11<br>Moving Ink Speed: nan%",
          "Stage: 12<br>Moving Ink Speed: nan%",
          "Stage: 13<br>Moving Ink Speed: nan%",
          "Stage: 14<br>Moving Ink Speed: nan%",
          "Stage: 15<br>Moving Ink Speed: nan%"
         ],
         "type": "scatter",
         "visible": false,
         "x": [
          1,
          2,
          3,
          4,
          5,
          6,
          7,
          8,
          10,
          11,
          12,
          13,
          14,
          15
         ],
         "y": [
          100,
          130,
          145,
          160,
          170,
          200,
          null,
          null,
          null,
          null,
          null,
          null,
          null,
          null
         ]
        },
        {
         "hoverinfo": "text",
         "mode": "lines+markers",
         "name": "Rush Attack",
         "text": [
          "Stage: 1<br>Rush Attack: 100.0%",
          "Stage: 2<br>Rush Attack: 130.0%",
          "Stage: 3<br>Rush Attack: 160.0%",
          "Stage: 4<br>Rush Attack: 190.0%",
          "Stage: 5<br>Rush Attack: 210.0%",
          "Stage: 6<br>Rush Attack: 300.0%",
          "Stage: 7<br>Rush Attack: nan%",
          "Stage: 8<br>Rush Attack: nan%",
          "Stage: 10<br>Rush Attack: nan%",
          "Stage: 11<br>Rush Attack: nan%",
          "Stage: 12<br>Rush Attack: nan%",
          "Stage: 13<br>Rush Attack: nan%",
          "Stage: 14<br>Rush Attack: nan%",
          "Stage: 15<br>Rush Attack: nan%"
         ],
         "type": "scatter",
         "visible": false,
         "x": [
          1,
          2,
          3,
          4,
          5,
          6,
          7,
          8,
          10,
          11,
          12,
          13,
          14,
          15
         ],
         "y": [
          100,
          130,
          160,
          190,
          210,
          300,
          null,
          null,
          null,
          null,
          null,
          null,
          null,
          null
         ]
        },
        {
         "hoverinfo": "text",
         "mode": "lines+markers",
         "name": "Rush Knockback",
         "text": [
          "Stage: 1<br>Rush Knockback: 100.0%",
          "Stage: 2<br>Rush Knockback: 117.0%",
          "Stage: 3<br>Rush Knockback: 133.0%",
          "Stage: 4<br>Rush Knockback: 167.0%",
          "Stage: 5<br>Rush Knockback: 200.0%",
          "Stage: 6<br>Rush Knockback: 300.0%",
          "Stage: 7<br>Rush Knockback: nan%",
          "Stage: 8<br>Rush Knockback: nan%",
          "Stage: 10<br>Rush Knockback: nan%",
          "Stage: 11<br>Rush Knockback: nan%",
          "Stage: 12<br>Rush Knockback: nan%",
          "Stage: 13<br>Rush Knockback: nan%",
          "Stage: 14<br>Rush Knockback: nan%",
          "Stage: 15<br>Rush Knockback: nan%"
         ],
         "type": "scatter",
         "visible": false,
         "x": [
          1,
          2,
          3,
          4,
          5,
          6,
          7,
          8,
          10,
          11,
          12,
          13,
          14,
          15
         ],
         "y": [
          100,
          117,
          133,
          167,
          200,
          300,
          null,
          null,
          null,
          null,
          null,
          null,
          null,
          null
         ]
        },
        {
         "hoverinfo": "text",
         "mode": "lines+markers",
         "name": "Mobile Ink Recovery",
         "text": [
          "Stage: 1<br>Mobile Ink Recovery: 0.0%",
          "Stage: 2<br>Mobile Ink Recovery: 0.5%",
          "Stage: 3<br>Mobile Ink Recovery: 1.0%",
          "Stage: 4<br>Mobile Ink Recovery: 1.5%",
          "Stage: 5<br>Mobile Ink Recovery: 3.0%",
          "Stage: 6<br>Mobile Ink Recovery: 8.0%",
          "Stage: 7<br>Mobile Ink Recovery: nan%",
          "Stage: 8<br>Mobile Ink Recovery: nan%",
          "Stage: 10<br>Mobile Ink Recovery: nan%",
          "Stage: 11<br>Mobile Ink Recovery: nan%",
          "Stage: 12<br>Mobile Ink Recovery: nan%",
          "Stage: 13<br>Mobile Ink Recovery: nan%",
          "Stage: 14<br>Mobile Ink Recovery: nan%",
          "Stage: 15<br>Mobile Ink Recovery: nan%"
         ],
         "type": "scatter",
         "visible": false,
         "x": [
          1,
          2,
          3,
          4,
          5,
          6,
          7,
          8,
          10,
          11,
          12,
          13,
          14,
          15
         ],
         "y": [
          0,
          0.5,
          1,
          1.5,
          3,
          8,
          null,
          null,
          null,
          null,
          null,
          null,
          null,
          null
         ]
        },
        {
         "hoverinfo": "text",
         "mode": "lines+markers",
         "name": "Ink-Recovery Rate",
         "text": [
          "Stage: 1<br>Ink-Recovery Rate: 100.0%",
          "Stage: 2<br>Ink-Recovery Rate: 125.0%",
          "Stage: 3<br>Ink-Recovery Rate: 150.0%",
          "Stage: 4<br>Ink-Recovery Rate: 175.0%",
          "Stage: 5<br>Ink-Recovery Rate: 200.0%",
          "Stage: 6<br>Ink-Recovery Rate: 300.0%",
          "Stage: 7<br>Ink-Recovery Rate: nan%",
          "Stage: 8<br>Ink-Recovery Rate: nan%",
          "Stage: 9<br>Ink-Recovery Rate: nan%",
          "Stage: 10<br>Ink-Recovery Rate: nan%",
          "Stage: 11<br>Ink-Recovery Rate: nan%",
          "Stage: 12<br>Ink-Recovery Rate: nan%",
          "Stage: 13<br>Ink-Recovery Rate: nan%",
          "Stage: 14<br>Ink-Recovery Rate: nan%",
          "Stage: 15<br>Ink-Recovery Rate: nan%",
          "Stage: 16<br>Ink-Recovery Rate: nan%"
         ],
         "type": "scatter",
         "visible": false,
         "x": [
          1,
          2,
          3,
          4,
          5,
          6,
          7,
          8,
          9,
          10,
          11,
          12,
          13,
          14,
          15,
          16
         ],
         "y": [
          100,
          125,
          150,
          175,
          200,
          300,
          null,
          null,
          null,
          null,
          null,
          null,
          null,
          null,
          null,
          null
         ]
        },
        {
         "hoverinfo": "text",
         "mode": "lines+markers",
         "name": "Ink Saver (Main)",
         "text": [
          "Stage: 1<br>Ink Saver (Main): 100.0%",
          "Stage: 2<br>Ink Saver (Main): 80.0%",
          "Stage: 3<br>Ink Saver (Main): 70.0%",
          "Stage: 4<br>Ink Saver (Main): 60.0%",
          "Stage: 5<br>Ink Saver (Main): 50.0%",
          "Stage: 6<br>Ink Saver (Main): 25.0%",
          "Stage: 7<br>Ink Saver (Main): nan%",
          "Stage: 8<br>Ink Saver (Main): nan%",
          "Stage: 9<br>Ink Saver (Main): nan%",
          "Stage: 10<br>Ink Saver (Main): nan%",
          "Stage: 11<br>Ink Saver (Main): nan%",
          "Stage: 12<br>Ink Saver (Main): nan%",
          "Stage: 13<br>Ink Saver (Main): nan%",
          "Stage: 14<br>Ink Saver (Main): nan%",
          "Stage: 15<br>Ink Saver (Main): nan%",
          "Stage: 16<br>Ink Saver (Main): nan%"
         ],
         "type": "scatter",
         "visible": false,
         "x": [
          1,
          2,
          3,
          4,
          5,
          6,
          7,
          8,
          9,
          10,
          11,
          12,
          13,
          14,
          15,
          16
         ],
         "y": [
          100,
          80,
          70,
          60,
          50,
          25,
          null,
          null,
          null,
          null,
          null,
          null,
          null,
          null,
          null,
          null
         ]
        },
        {
         "hoverinfo": "text",
         "mode": "lines+markers",
         "name": "Ink Saver (Sub)",
         "text": [
          "Stage: 1<br>Ink Saver (Sub): 100.0%",
          "Stage: 2<br>Ink Saver (Sub): 80.0%",
          "Stage: 3<br>Ink Saver (Sub): 70.0%",
          "Stage: 4<br>Ink Saver (Sub): 60.0%",
          "Stage: 5<br>Ink Saver (Sub): 50.0%",
          "Stage: 6<br>Ink Saver (Sub): 25.0%",
          "Stage: 7<br>Ink Saver (Sub): nan%",
          "Stage: 8<br>Ink Saver (Sub): nan%",
          "Stage: 9<br>Ink Saver (Sub): nan%",
          "Stage: 10<br>Ink Saver (Sub): nan%",
          "Stage: 11<br>Ink Saver (Sub): nan%",
          "Stage: 12<br>Ink Saver (Sub): nan%",
          "Stage: 13<br>Ink Saver (Sub): nan%",
          "Stage: 14<br>Ink Saver (Sub): nan%",
          "Stage: 15<br>Ink Saver (Sub): nan%",
          "Stage: 16<br>Ink Saver (Sub): nan%"
         ],
         "type": "scatter",
         "visible": false,
         "x": [
          1,
          2,
          3,
          4,
          5,
          6,
          7,
          8,
          9,
          10,
          11,
          12,
          13,
          14,
          15,
          16
         ],
         "y": [
          100,
          80,
          70,
          60,
          50,
          25,
          null,
          null,
          null,
          null,
          null,
          null,
          null,
          null,
          null,
          null
         ]
        },
        {
         "hoverinfo": "text",
         "mode": "lines+markers",
         "name": "Splat Ink Recovery",
         "text": [
          "Stage: 1<br>Splat Ink Recovery: 0.0%",
          "Stage: 2<br>Splat Ink Recovery: 2.0%",
          "Stage: 3<br>Splat Ink Recovery: 4.0%",
          "Stage: 4<br>Splat Ink Recovery: 6.0%",
          "Stage: 5<br>Splat Ink Recovery: 10.0%",
          "Stage: 6<br>Splat Ink Recovery: 20.0%",
          "Stage: 7<br>Splat Ink Recovery: nan%",
          "Stage: 8<br>Splat Ink Recovery: nan%",
          "Stage: 9<br>Splat Ink Recovery: nan%",
          "Stage: 10<br>Splat Ink Recovery: nan%",
          "Stage: 11<br>Splat Ink Recovery: nan%",
          "Stage: 12<br>Splat Ink Recovery: nan%",
          "Stage: 13<br>Splat Ink Recovery: nan%",
          "Stage: 14<br>Splat Ink Recovery: nan%",
          "Stage: 15<br>Splat Ink Recovery: nan%",
          "Stage: 16<br>Splat Ink Recovery: nan%"
         ],
         "type": "scatter",
         "visible": false,
         "x": [
          1,
          2,
          3,
          4,
          5,
          6,
          7,
          8,
          9,
          10,
          11,
          12,
          13,
          14,
          15,
          16
         ],
         "y": [
          0,
          2,
          4,
          6,
          10,
          20,
          null,
          null,
          null,
          null,
          null,
          null,
          null,
          null,
          null,
          null
         ]
        },
        {
         "hoverinfo": "text",
         "mode": "lines+markers",
         "name": "Sticky Ink",
         "text": [
          "Stage: 1<br>Sticky Ink: 70.0%",
          "Stage: 2<br>Sticky Ink: 45.0%",
          "Stage: 3<br>Sticky Ink: 30.0%",
          "Stage: 4<br>Sticky Ink: 20.0%",
          "Stage: 5<br>Sticky Ink: 10.0%",
          "Stage: 6<br>Sticky Ink: 1.0%",
          "Stage: 7<br>Sticky Ink: nan%",
          "Stage: 8<br>Sticky Ink: nan%",
          "Stage: 9<br>Sticky Ink: nan%",
          "Stage: 10<br>Sticky Ink: nan%",
          "Stage: 11<br>Sticky Ink: nan%",
          "Stage: 12<br>Sticky Ink: nan%",
          "Stage: 13<br>Sticky Ink: nan%",
          "Stage: 14<br>Sticky Ink: nan%",
          "Stage: 15<br>Sticky Ink: nan%",
          "Stage: 16<br>Sticky Ink: nan%"
         ],
         "type": "scatter",
         "visible": false,
         "x": [
          1,
          2,
          3,
          4,
          5,
          6,
          7,
          8,
          9,
          10,
          11,
          12,
          13,
          14,
          15,
          16
         ],
         "y": [
          70,
          45,
          30,
          20,
          10,
          1,
          null,
          null,
          null,
          null,
          null,
          null,
          null,
          null,
          null,
          null
         ]
        },
        {
         "hoverinfo": "text",
         "mode": "lines+markers",
         "name": "Knockback",
         "text": [
          "Stage: 1<br>Knockback: 0.0%",
          "Stage: 2<br>Knockback: 100.0%",
          "Stage: 3<br>Knockback: 200.0%",
          "Stage: 4<br>Knockback: 600.0%",
          "Stage: 5<br>Knockback: 1000.0%",
          "Stage: 6<br>Knockback: 2000.0%",
          "Stage: 7<br>Knockback: nan%",
          "Stage: 8<br>Knockback: nan%",
          "Stage: 9<br>Knockback: nan%",
          "Stage: 10<br>Knockback: nan%",
          "Stage: 11<br>Knockback: nan%",
          "Stage: 12<br>Knockback: nan%",
          "Stage: 13<br>Knockback: nan%",
          "Stage: 14<br>Knockback: nan%",
          "Stage: 15<br>Knockback: nan%",
          "Stage: 16<br>Knockback: nan%"
         ],
         "type": "scatter",
         "visible": false,
         "x": [
          1,
          2,
          3,
          4,
          5,
          6,
          7,
          8,
          9,
          10,
          11,
          12,
          13,
          14,
          15,
          16
         ],
         "y": [
          0,
          100,
          200,
          600,
          1000,
          2000,
          null,
          null,
          null,
          null,
          null,
          null,
          null,
          null,
          null,
          null
         ]
        },
        {
         "hoverinfo": "text",
         "mode": "lines+markers",
         "name": "Explosion Knockback",
         "text": [
          "Stage: 1<br>Explosion Knockback: 100.0%",
          "Stage: 2<br>Explosion Knockback: 117.0%",
          "Stage: 3<br>Explosion Knockback: 133.0%",
          "Stage: 4<br>Explosion Knockback: 167.0%",
          "Stage: 5<br>Explosion Knockback: 200.0%",
          "Stage: 6<br>Explosion Knockback: 300.0%",
          "Stage: 7<br>Explosion Knockback: nan%",
          "Stage: 8<br>Explosion Knockback: nan%",
          "Stage: 9<br>Explosion Knockback: nan%",
          "Stage: 10<br>Explosion Knockback: nan%",
          "Stage: 11<br>Explosion Knockback: nan%",
          "Stage: 12<br>Explosion Knockback: nan%",
          "Stage: 13<br>Explosion Knockback: nan%",
          "Stage: 14<br>Explosion Knockback: nan%",
          "Stage: 15<br>Explosion Knockback: nan%",
          "Stage: 16<br>Explosion Knockback: nan%"
         ],
         "type": "scatter",
         "visible": false,
         "x": [
          1,
          2,
          3,
          4,
          5,
          6,
          7,
          8,
          9,
          10,
          11,
          12,
          13,
          14,
          15,
          16
         ],
         "y": [
          100,
          117,
          133,
          167,
          200,
          300,
          null,
          null,
          null,
          null,
          null,
          null,
          null,
          null,
          null,
          null
         ]
        },
        {
         "hoverinfo": "text",
         "mode": "lines+markers",
         "name": "Shot-Spread Reduction",
         "text": [
          "Stage: 1<br>Shot-Spread Reduction: 100.0%",
          "Stage: 2<br>Shot-Spread Reduction: 80.0%",
          "Stage: 3<br>Shot-Spread Reduction: 60.0%",
          "Stage: 4<br>Shot-Spread Reduction: 40.0%",
          "Stage: 5<br>Shot-Spread Reduction: 20.0%",
          "Stage: 6<br>Shot-Spread Reduction: nan%",
          "Stage: 7<br>Shot-Spread Reduction: nan%",
          "Stage: 8<br>Shot-Spread Reduction: nan%",
          "Stage: 9<br>Shot-Spread Reduction: nan%",
          "Stage: 10<br>Shot-Spread Reduction: nan%",
          "Stage: 11<br>Shot-Spread Reduction: nan%",
          "Stage: 12<br>Shot-Spread Reduction: nan%",
          "Stage: 13<br>Shot-Spread Reduction: nan%",
          "Stage: 14<br>Shot-Spread Reduction: nan%",
          "Stage: 15<br>Shot-Spread Reduction: nan%",
          "Stage: 16<br>Shot-Spread Reduction: nan%"
         ],
         "type": "scatter",
         "visible": false,
         "x": [
          1,
          2,
          3,
          4,
          5,
          6,
          7,
          8,
          9,
          10,
          11,
          12,
          13,
          14,
          15,
          16
         ],
         "y": [
          100,
          80,
          60,
          40,
          20,
          null,
          null,
          null,
          null,
          null,
          null,
          null,
          null,
          null,
          null,
          null
         ]
        },
        {
         "hoverinfo": "text",
         "mode": "lines+markers",
         "name": "Homing Shot",
         "text": [
          "Stage: 1<br>Homing Shot: 0.0%",
          "Stage: 2<br>Homing Shot: 12.0%",
          "Stage: 3<br>Homing Shot: 25.0%",
          "Stage: 4<br>Homing Shot: 33.0%",
          "Stage: 5<br>Homing Shot: 50.0%",
          "Stage: 6<br>Homing Shot: 100.0%",
          "Stage: 7<br>Homing Shot: nan%",
          "Stage: 8<br>Homing Shot: nan%",
          "Stage: 9<br>Homing Shot: nan%",
          "Stage: 10<br>Homing Shot: nan%",
          "Stage: 11<br>Homing Shot: nan%",
          "Stage: 12<br>Homing Shot: nan%",
          "Stage: 13<br>Homing Shot: nan%",
          "Stage: 14<br>Homing Shot: nan%",
          "Stage: 15<br>Homing Shot: nan%",
          "Stage: 16<br>Homing Shot: nan%"
         ],
         "type": "scatter",
         "visible": false,
         "x": [
          1,
          2,
          3,
          4,
          5,
          6,
          7,
          8,
          9,
          10,
          11,
          12,
          13,
          14,
          15,
          16
         ],
         "y": [
          0,
          12,
          25,
          33,
          50,
          100,
          null,
          null,
          null,
          null,
          null,
          null,
          null,
          null,
          null,
          null
         ]
        },
        {
         "hoverinfo": "text",
         "mode": "lines+markers",
         "name": "Quick Charge (Charger)",
         "text": [
          "Stage: 1<br>Quick Charge (Charger): 100.0%",
          "Stage: 2<br>Quick Charge (Charger): 69.0%",
          "Stage: 3<br>Quick Charge (Charger): 60.0%",
          "Stage: 4<br>Quick Charge (Charger): 47.0%",
          "Stage: 5<br>Quick Charge (Charger): 31.0%",
          "Stage: 6<br>Quick Charge (Charger): 5.0%",
          "Stage: 7<br>Quick Charge (Charger): nan%",
          "Stage: 8<br>Quick Charge (Charger): nan%",
          "Stage: 9<br>Quick Charge (Charger): nan%",
          "Stage: 10<br>Quick Charge (Charger): nan%",
          "Stage: 11<br>Quick Charge (Charger): nan%",
          "Stage: 12<br>Quick Charge (Charger): nan%",
          "Stage: 13<br>Quick Charge (Charger): nan%",
          "Stage: 14<br>Quick Charge (Charger): nan%",
          "Stage: 15<br>Quick Charge (Charger): nan%",
          "Stage: 16<br>Quick Charge (Charger): nan%"
         ],
         "type": "scatter",
         "visible": false,
         "x": [
          1,
          2,
          3,
          4,
          5,
          6,
          7,
          8,
          9,
          10,
          11,
          12,
          13,
          14,
          15,
          16
         ],
         "y": [
          100,
          69,
          60,
          47,
          31,
          5,
          null,
          null,
          null,
          null,
          null,
          null,
          null,
          null,
          null,
          null
         ]
        },
        {
         "hoverinfo": "text",
         "mode": "lines+markers",
         "name": "Quick Charge (Bow)",
         "text": [
          "Stage: 1<br>Quick Charge (Bow): 100.0%",
          "Stage: 2<br>Quick Charge (Bow): 80.0%",
          "Stage: 3<br>Quick Charge (Bow): 67.0%",
          "Stage: 4<br>Quick Charge (Bow): 60.0%",
          "Stage: 5<br>Quick Charge (Bow): 53.0%",
          "Stage: 6<br>Quick Charge (Bow): 33.0%",
          "Stage: 7<br>Quick Charge (Bow): nan%",
          "Stage: 8<br>Quick Charge (Bow): nan%",
          "Stage: 9<br>Quick Charge (Bow): nan%",
          "Stage: 10<br>Quick Charge (Bow): nan%",
          "Stage: 11<br>Quick Charge (Bow): nan%",
          "Stage: 12<br>Quick Charge (Bow): nan%",
          "Stage: 13<br>Quick Charge (Bow): nan%",
          "Stage: 14<br>Quick Charge (Bow): nan%",
          "Stage: 15<br>Quick Charge (Bow): nan%",
          "Stage: 16<br>Quick Charge (Bow): nan%"
         ],
         "type": "scatter",
         "visible": false,
         "x": [
          1,
          2,
          3,
          4,
          5,
          6,
          7,
          8,
          9,
          10,
          11,
          12,
          13,
          14,
          15,
          16
         ],
         "y": [
          100,
          80,
          67,
          60,
          53,
          33,
          null,
          null,
          null,
          null,
          null,
          null,
          null,
          null,
          null,
          null
         ]
        },
        {
         "hoverinfo": "text",
         "mode": "lines+markers",
         "name": "Quick Charge (Splatling)",
         "text": [
          "Stage: 1<br>Quick Charge (Splatling): 100.0%",
          "Stage: 2<br>Quick Charge (Splatling): 88.0%",
          "Stage: 3<br>Quick Charge (Splatling): 80.0%",
          "Stage: 4<br>Quick Charge (Splatling): 71.0%",
          "Stage: 5<br>Quick Charge (Splatling): 59.0%",
          "Stage: 6<br>Quick Charge (Splatling): 35.0%",
          "Stage: 7<br>Quick Charge (Splatling): nan%",
          "Stage: 8<br>Quick Charge (Splatling): nan%",
          "Stage: 9<br>Quick Charge (Splatling): nan%",
          "Stage: 10<br>Quick Charge (Splatling): nan%",
          "Stage: 11<br>Quick Charge (Splatling): nan%",
          "Stage: 12<br>Quick Charge (Splatling): nan%",
          "Stage: 13<br>Quick Charge (Splatling): nan%",
          "Stage: 14<br>Quick Charge (Splatling): nan%",
          "Stage: 15<br>Quick Charge (Splatling): nan%",
          "Stage: 16<br>Quick Charge (Splatling): nan%"
         ],
         "type": "scatter",
         "visible": false,
         "x": [
          1,
          2,
          3,
          4,
          5,
          6,
          7,
          8,
          9,
          10,
          11,
          12,
          13,
          14,
          15,
          16
         ],
         "y": [
          100,
          88,
          80,
          71,
          59,
          35,
          null,
          null,
          null,
          null,
          null,
          null,
          null,
          null,
          null,
          null
         ]
        },
        {
         "hoverinfo": "text",
         "mode": "lines+markers",
         "name": "No-Launch Brella",
         "text": [
          "Stage: 1<br>No-Launch Brella: 100.0%",
          "Stage: 2<br>No-Launch Brella: 90.0%",
          "Stage: 3<br>No-Launch Brella: 75.0%",
          "Stage: 4<br>No-Launch Brella: 62.0%",
          "Stage: 5<br>No-Launch Brella: 50.0%",
          "Stage: 6<br>No-Launch Brella: 37.0%",
          "Stage: 7<br>No-Launch Brella: nan%",
          "Stage: 8<br>No-Launch Brella: nan%",
          "Stage: 9<br>No-Launch Brella: nan%",
          "Stage: 10<br>No-Launch Brella: nan%",
          "Stage: 11<br>No-Launch Brella: nan%",
          "Stage: 12<br>No-Launch Brella: nan%",
          "Stage: 13<br>No-Launch Brella: nan%",
          "Stage: 14<br>No-Launch Brella: nan%",
          "Stage: 15<br>No-Launch Brella: nan%",
          "Stage: 16<br>No-Launch Brella: nan%"
         ],
         "type": "scatter",
         "visible": false,
         "x": [
          1,
          2,
          3,
          4,
          5,
          6,
          7,
          8,
          9,
          10,
          11,
          12,
          13,
          14,
          15,
          16
         ],
         "y": [
          100,
          90,
          75,
          62,
          50,
          37,
          null,
          null,
          null,
          null,
          null,
          null,
          null,
          null,
          null,
          null
         ]
        },
        {
         "hoverinfo": "text",
         "mode": "lines+markers",
         "name": "Armor Drop",
         "text": [
          "Stage: 1<br>Armor Drop: 1.0%",
          "Stage: 2<br>Armor Drop: 1.0%",
          "Stage: 3<br>Armor Drop: 1.5%",
          "Stage: 4<br>Armor Drop: 2.0%",
          "Stage: 5<br>Armor Drop: 2.5%",
          "Stage: 6<br>Armor Drop: 3.0%",
          "Stage: 7<br>Armor Drop: nan%",
          "Stage: 8<br>Armor Drop: nan%"
         ],
         "type": "scatter",
         "visible": false,
         "x": [
          1,
          2,
          3,
          4,
          5,
          6,
          7,
          8
         ],
         "y": [
          1,
          1,
          1.5,
          2,
          2.5,
          3,
          null,
          null
         ]
        },
        {
         "hoverinfo": "text",
         "mode": "lines+markers",
         "name": "Ink-Bottle Drop",
         "text": [
          "Stage: 1<br>Ink-Bottle Drop: 1.0%",
          "Stage: 2<br>Ink-Bottle Drop: 4.0%",
          "Stage: 3<br>Ink-Bottle Drop: 7.0%",
          "Stage: 4<br>Ink-Bottle Drop: 10.0%",
          "Stage: 5<br>Ink-Bottle Drop: 13.0%",
          "Stage: 6<br>Ink-Bottle Drop: 20.0%",
          "Stage: 7<br>Ink-Bottle Drop: nan%",
          "Stage: 8<br>Ink-Bottle Drop: nan%"
         ],
         "type": "scatter",
         "visible": false,
         "x": [
          1,
          2,
          3,
          4,
          5,
          6,
          7,
          8
         ],
         "y": [
          1,
          4,
          7,
          10,
          13,
          20,
          null,
          null
         ]
        },
        {
         "hoverinfo": "text",
         "mode": "lines+markers",
         "name": "Canned-Special Drop",
         "text": [
          "Stage: 1<br>Canned-Special Drop: 1.0%",
          "Stage: 2<br>Canned-Special Drop: 4.0%",
          "Stage: 3<br>Canned-Special Drop: 7.0%",
          "Stage: 4<br>Canned-Special Drop: 10.0%",
          "Stage: 5<br>Canned-Special Drop: 13.0%",
          "Stage: 6<br>Canned-Special Drop: 20.0%",
          "Stage: 7<br>Canned-Special Drop: nan%",
          "Stage: 8<br>Canned-Special Drop: nan%"
         ],
         "type": "scatter",
         "visible": false,
         "x": [
          1,
          2,
          3,
          4,
          5,
          6,
          7,
          8
         ],
         "y": [
          1,
          4,
          7,
          10,
          13,
          20,
          null,
          null
         ]
        },
        {
         "hoverinfo": "text",
         "mode": "lines+markers",
         "name": "Drone-Battery Drop",
         "text": [
          "Stage: 1<br>Drone-Battery Drop: 0.0%",
          "Stage: 2<br>Drone-Battery Drop: 4.0%",
          "Stage: 3<br>Drone-Battery Drop: 7.0%",
          "Stage: 4<br>Drone-Battery Drop: 10.0%",
          "Stage: 5<br>Drone-Battery Drop: 13.0%",
          "Stage: 6<br>Drone-Battery Drop: 20.0%",
          "Stage: 7<br>Drone-Battery Drop: nan%",
          "Stage: 8<br>Drone-Battery Drop: nan%"
         ],
         "type": "scatter",
         "visible": false,
         "x": [
          1,
          2,
          3,
          4,
          5,
          6,
          7,
          8
         ],
         "y": [
          0,
          4,
          7,
          10,
          13,
          20,
          null,
          null
         ]
        },
        {
         "hoverinfo": "text",
         "mode": "lines+markers",
         "name": "Lucky Bomb Drop",
         "text": [
          "Stage: 1<br>Lucky Bomb Drop: 0.0%",
          "Stage: 2<br>Lucky Bomb Drop: 15.0%",
          "Stage: 3<br>Lucky Bomb Drop: 30.0%",
          "Stage: 4<br>Lucky Bomb Drop: 45.0%",
          "Stage: 5<br>Lucky Bomb Drop: 60.0%",
          "Stage: 6<br>Lucky Bomb Drop: 90.0%",
          "Stage: 7<br>Lucky Bomb Drop: nan%",
          "Stage: 8<br>Lucky Bomb Drop: nan%"
         ],
         "type": "scatter",
         "visible": false,
         "x": [
          1,
          2,
          3,
          4,
          5,
          6,
          7,
          8
         ],
         "y": [
          0,
          15,
          30,
          45,
          60,
          90,
          null,
          null
         ]
        },
        {
         "hoverinfo": "text",
         "mode": "lines+markers",
         "name": "Disc-Piece Drop",
         "text": [
          "Stage: 1<br>Disc-Piece Drop: 1.0%",
          "Stage: 2<br>Disc-Piece Drop: 2.0%",
          "Stage: 3<br>Disc-Piece Drop: 3.0%",
          "Stage: 4<br>Disc-Piece Drop: 4.0%",
          "Stage: 5<br>Disc-Piece Drop: 5.0%",
          "Stage: 6<br>Disc-Piece Drop: 6.0%",
          "Stage: 7<br>Disc-Piece Drop: nan%",
          "Stage: 8<br>Disc-Piece Drop: nan%"
         ],
         "type": "scatter",
         "visible": false,
         "x": [
          1,
          2,
          3,
          4,
          5,
          6,
          7,
          8
         ],
         "y": [
          1,
          2,
          3,
          4,
          5,
          6,
          null,
          null
         ]
        },
        {
         "hoverinfo": "text",
         "mode": "lines+markers",
         "name": "Drone Splat Bomb",
         "text": [
          "Stage: 1<br>Drone Splat Bomb: nan%",
          "Stage: 2<br>Drone Splat Bomb: 200.0%",
          "Stage: 3<br>Drone Splat Bomb: 160.0%",
          "Stage: 4<br>Drone Splat Bomb: 130.0%",
          "Stage: 5<br>Drone Splat Bomb: 100.0%",
          "Stage: 6<br>Drone Splat Bomb: 70.0%",
          "Stage: 7<br>Drone Splat Bomb: nan%",
          "Stage: 8<br>Drone Splat Bomb: nan%",
          "Stage: 10<br>Drone Splat Bomb: nan%"
         ],
         "type": "scatter",
         "visible": false,
         "x": [
          1,
          2,
          3,
          4,
          5,
          6,
          7,
          8,
          10
         ],
         "y": [
          null,
          200,
          160,
          130,
          100,
          70,
          null,
          null,
          null
         ]
        },
        {
         "hoverinfo": "text",
         "mode": "lines+markers",
         "name": "Drone Burst Bomb",
         "text": [
          "Stage: 1<br>Drone Burst Bomb: nan%",
          "Stage: 2<br>Drone Burst Bomb: 180.0%",
          "Stage: 3<br>Drone Burst Bomb: 150.0%",
          "Stage: 4<br>Drone Burst Bomb: 120.0%",
          "Stage: 5<br>Drone Burst Bomb: 90.0%",
          "Stage: 6<br>Drone Burst Bomb: 60.0%",
          "Stage: 7<br>Drone Burst Bomb: nan%",
          "Stage: 8<br>Drone Burst Bomb: nan%",
          "Stage: 10<br>Drone Burst Bomb: nan%"
         ],
         "type": "scatter",
         "visible": false,
         "x": [
          1,
          2,
          3,
          4,
          5,
          6,
          7,
          8,
          10
         ],
         "y": [
          null,
          180,
          150,
          120,
          90,
          60,
          null,
          null,
          null
         ]
        },
        {
         "hoverinfo": "text",
         "mode": "lines+markers",
         "name": "Drone Killer Wail",
         "text": [
          "Stage: 1<br>Drone Killer Wail: nan%",
          "Stage: 2<br>Drone Killer Wail: 500.0%",
          "Stage: 3<br>Drone Killer Wail: 460.0%",
          "Stage: 4<br>Drone Killer Wail: 420.0%",
          "Stage: 5<br>Drone Killer Wail: 360.0%",
          "Stage: 6<br>Drone Killer Wail: 280.0%",
          "Stage: 7<br>Drone Killer Wail: nan%",
          "Stage: 8<br>Drone Killer Wail: nan%",
          "Stage: 10<br>Drone Killer Wail: nan%"
         ],
         "type": "scatter",
         "visible": false,
         "x": [
          1,
          2,
          3,
          4,
          5,
          6,
          7,
          8,
          10
         ],
         "y": [
          null,
          500,
          460,
          420,
          360,
          280,
          null,
          null,
          null
         ]
        },
        {
         "hoverinfo": "text",
         "mode": "lines+markers",
         "name": "Drone Inkstrike",
         "text": [
          "Stage: 1<br>Drone Inkstrike: nan%",
          "Stage: 2<br>Drone Inkstrike: 550.0%",
          "Stage: 3<br>Drone Inkstrike: 440.0%",
          "Stage: 4<br>Drone Inkstrike: 360.0%",
          "Stage: 5<br>Drone Inkstrike: 280.0%",
          "Stage: 6<br>Drone Inkstrike: 180.0%",
          "Stage: 7<br>Drone Inkstrike: nan%",
          "Stage: 8<br>Drone Inkstrike: nan%",
          "Stage: 10<br>Drone Inkstrike: nan%"
         ],
         "type": "scatter",
         "visible": false,
         "x": [
          1,
          2,
          3,
          4,
          5,
          6,
          7,
          8,
          10
         ],
         "y": [
          null,
          550,
          440,
          360,
          280,
          180,
          null,
          null,
          null
         ]
        },
        {
         "hoverinfo": "text",
         "mode": "lines+markers",
         "name": "Drone Ink Mine",
         "text": [
          "Stage: 1<br>Drone Ink Mine: nan%",
          "Stage: 2<br>Drone Ink Mine: 190.0%",
          "Stage: 3<br>Drone Ink Mine: 160.0%",
          "Stage: 4<br>Drone Ink Mine: 130.0%",
          "Stage: 5<br>Drone Ink Mine: 100.0%",
          "Stage: 6<br>Drone Ink Mine: 70.0%",
          "Stage: 7<br>Drone Ink Mine: nan%",
          "Stage: 8<br>Drone Ink Mine: nan%",
          "Stage: 10<br>Drone Ink Mine: nan%"
         ],
         "type": "scatter",
         "visible": false,
         "x": [
          1,
          2,
          3,
          4,
          5,
          6,
          7,
          8,
          10
         ],
         "y": [
          null,
          190,
          160,
          130,
          100,
          70,
          null,
          null,
          null
         ]
        },
        {
         "hoverinfo": "text",
         "mode": "lines+markers",
         "name": "Drone Sprinkler",
         "text": [
          "Stage: 1<br>Drone Sprinkler: nan%",
          "Stage: 2<br>Drone Sprinkler: 10.0%",
          "Stage: 3<br>Drone Sprinkler: 8.0%",
          "Stage: 4<br>Drone Sprinkler: 6.0%",
          "Stage: 5<br>Drone Sprinkler: 4.0%",
          "Stage: 6<br>Drone Sprinkler: 2.0%",
          "Stage: 7<br>Drone Sprinkler: nan%",
          "Stage: 8<br>Drone Sprinkler: nan%",
          "Stage: 10<br>Drone Sprinkler: nan%"
         ],
         "type": "scatter",
         "visible": false,
         "x": [
          1,
          2,
          3,
          4,
          5,
          6,
          7,
          8,
          10
         ],
         "y": [
          null,
          10,
          8,
          6,
          4,
          2,
          null,
          null,
          null
         ]
        },
        {
         "hoverinfo": "text",
         "mode": "lines+markers",
         "name": "Drone Items",
         "text": [
          "Stage: 1<br>Drone Items: nan%",
          "Stage: 2<br>Drone Items: 600.0%",
          "Stage: 3<br>Drone Items: 500.0%",
          "Stage: 4<br>Drone Items: 400.0%",
          "Stage: 5<br>Drone Items: 300.0%",
          "Stage: 6<br>Drone Items: 200.0%",
          "Stage: 7<br>Drone Items: nan%",
          "Stage: 8<br>Drone Items: nan%",
          "Stage: 10<br>Drone Items: nan%"
         ],
         "type": "scatter",
         "visible": false,
         "x": [
          1,
          2,
          3,
          4,
          5,
          6,
          7,
          8,
          10
         ],
         "y": [
          null,
          600,
          500,
          400,
          300,
          200,
          null,
          null,
          null
         ]
        },
        {
         "hoverinfo": "text",
         "mode": "lines+markers",
         "name": "Drone-Gauge Charge",
         "text": [
          "Stage: 1<br>Drone-Gauge Charge: 6.0%",
          "Stage: 2<br>Drone-Gauge Charge: 7.0%",
          "Stage: 3<br>Drone-Gauge Charge: 8.0%",
          "Stage: 4<br>Drone-Gauge Charge: 9.0%",
          "Stage: 5<br>Drone-Gauge Charge: 10.0%",
          "Stage: 6<br>Drone-Gauge Charge: 12.0%",
          "Stage: 7<br>Drone-Gauge Charge: nan%",
          "Stage: 8<br>Drone-Gauge Charge: nan%",
          "Stage: 10<br>Drone-Gauge Charge: nan%"
         ],
         "type": "scatter",
         "visible": false,
         "x": [
          1,
          2,
          3,
          4,
          5,
          6,
          7,
          8,
          10
         ],
         "y": [
          6,
          7,
          8,
          9,
          10,
          12,
          null,
          null,
          null
         ]
        },
        {
         "hoverinfo": "text",
         "mode": "lines+markers",
         "name": "Splat Drone Gauge",
         "text": [
          "Stage: 1<br>Splat Drone Gauge: 0.0%",
          "Stage: 2<br>Splat Drone Gauge: 30.0%",
          "Stage: 3<br>Splat Drone Gauge: 40.0%",
          "Stage: 4<br>Splat Drone Gauge: 50.0%",
          "Stage: 5<br>Splat Drone Gauge: 60.0%",
          "Stage: 6<br>Splat Drone Gauge: 70.0%",
          "Stage: 7<br>Splat Drone Gauge: nan%",
          "Stage: 8<br>Splat Drone Gauge: nan%",
          "Stage: 10<br>Splat Drone Gauge: nan%"
         ],
         "type": "scatter",
         "visible": false,
         "x": [
          1,
          2,
          3,
          4,
          5,
          6,
          7,
          8,
          10
         ],
         "y": [
          0,
          30,
          40,
          50,
          60,
          70,
          null,
          null,
          null
         ]
        }
       ],
       "layout": {
        "hovermode": "closest",
        "images": [
         {
          "opacity": 0.5,
          "sizex": 0.4,
          "sizey": 0.4,
          "source": "../images/colorchips/power_colorchip.png",
          "x": 0.8,
          "xanchor": "center",
          "xref": "paper",
          "y": 0.7,
          "yanchor": "middle",
          "yref": "paper"
         }
        ],
        "legend": {
         "bgcolor": "rgba(0,0,0,0)",
         "bordercolor": "rgba(0,0,0,0)",
         "font": {
          "color": "black",
          "family": "Arial",
          "size": 12
         },
         "traceorder": "normal",
         "x": 1.01,
         "y": 0.8
        },
        "margin": {
         "b": 40,
         "l": 40,
         "r": 40,
         "t": 40
        },
        "template": {
         "data": {
          "bar": [
           {
            "error_x": {
             "color": "#2a3f5f"
            },
            "error_y": {
             "color": "#2a3f5f"
            },
            "marker": {
             "line": {
              "color": "#E5ECF6",
              "width": 0.5
             },
             "pattern": {
              "fillmode": "overlay",
              "size": 10,
              "solidity": 0.2
             }
            },
            "type": "bar"
           }
          ],
          "barpolar": [
           {
            "marker": {
             "line": {
              "color": "#E5ECF6",
              "width": 0.5
             },
             "pattern": {
              "fillmode": "overlay",
              "size": 10,
              "solidity": 0.2
             }
            },
            "type": "barpolar"
           }
          ],
          "carpet": [
           {
            "aaxis": {
             "endlinecolor": "#2a3f5f",
             "gridcolor": "white",
             "linecolor": "white",
             "minorgridcolor": "white",
             "startlinecolor": "#2a3f5f"
            },
            "baxis": {
             "endlinecolor": "#2a3f5f",
             "gridcolor": "white",
             "linecolor": "white",
             "minorgridcolor": "white",
             "startlinecolor": "#2a3f5f"
            },
            "type": "carpet"
           }
          ],
          "choropleth": [
           {
            "colorbar": {
             "outlinewidth": 0,
             "ticks": ""
            },
            "type": "choropleth"
           }
          ],
          "contour": [
           {
            "colorbar": {
             "outlinewidth": 0,
             "ticks": ""
            },
            "colorscale": [
             [
              0,
              "#0d0887"
             ],
             [
              0.1111111111111111,
              "#46039f"
             ],
             [
              0.2222222222222222,
              "#7201a8"
             ],
             [
              0.3333333333333333,
              "#9c179e"
             ],
             [
              0.4444444444444444,
              "#bd3786"
             ],
             [
              0.5555555555555556,
              "#d8576b"
             ],
             [
              0.6666666666666666,
              "#ed7953"
             ],
             [
              0.7777777777777778,
              "#fb9f3a"
             ],
             [
              0.8888888888888888,
              "#fdca26"
             ],
             [
              1,
              "#f0f921"
             ]
            ],
            "type": "contour"
           }
          ],
          "contourcarpet": [
           {
            "colorbar": {
             "outlinewidth": 0,
             "ticks": ""
            },
            "type": "contourcarpet"
           }
          ],
          "heatmap": [
           {
            "colorbar": {
             "outlinewidth": 0,
             "ticks": ""
            },
            "colorscale": [
             [
              0,
              "#0d0887"
             ],
             [
              0.1111111111111111,
              "#46039f"
             ],
             [
              0.2222222222222222,
              "#7201a8"
             ],
             [
              0.3333333333333333,
              "#9c179e"
             ],
             [
              0.4444444444444444,
              "#bd3786"
             ],
             [
              0.5555555555555556,
              "#d8576b"
             ],
             [
              0.6666666666666666,
              "#ed7953"
             ],
             [
              0.7777777777777778,
              "#fb9f3a"
             ],
             [
              0.8888888888888888,
              "#fdca26"
             ],
             [
              1,
              "#f0f921"
             ]
            ],
            "type": "heatmap"
           }
          ],
          "heatmapgl": [
           {
            "colorbar": {
             "outlinewidth": 0,
             "ticks": ""
            },
            "colorscale": [
             [
              0,
              "#0d0887"
             ],
             [
              0.1111111111111111,
              "#46039f"
             ],
             [
              0.2222222222222222,
              "#7201a8"
             ],
             [
              0.3333333333333333,
              "#9c179e"
             ],
             [
              0.4444444444444444,
              "#bd3786"
             ],
             [
              0.5555555555555556,
              "#d8576b"
             ],
             [
              0.6666666666666666,
              "#ed7953"
             ],
             [
              0.7777777777777778,
              "#fb9f3a"
             ],
             [
              0.8888888888888888,
              "#fdca26"
             ],
             [
              1,
              "#f0f921"
             ]
            ],
            "type": "heatmapgl"
           }
          ],
          "histogram": [
           {
            "marker": {
             "pattern": {
              "fillmode": "overlay",
              "size": 10,
              "solidity": 0.2
             }
            },
            "type": "histogram"
           }
          ],
          "histogram2d": [
           {
            "colorbar": {
             "outlinewidth": 0,
             "ticks": ""
            },
            "colorscale": [
             [
              0,
              "#0d0887"
             ],
             [
              0.1111111111111111,
              "#46039f"
             ],
             [
              0.2222222222222222,
              "#7201a8"
             ],
             [
              0.3333333333333333,
              "#9c179e"
             ],
             [
              0.4444444444444444,
              "#bd3786"
             ],
             [
              0.5555555555555556,
              "#d8576b"
             ],
             [
              0.6666666666666666,
              "#ed7953"
             ],
             [
              0.7777777777777778,
              "#fb9f3a"
             ],
             [
              0.8888888888888888,
              "#fdca26"
             ],
             [
              1,
              "#f0f921"
             ]
            ],
            "type": "histogram2d"
           }
          ],
          "histogram2dcontour": [
           {
            "colorbar": {
             "outlinewidth": 0,
             "ticks": ""
            },
            "colorscale": [
             [
              0,
              "#0d0887"
             ],
             [
              0.1111111111111111,
              "#46039f"
             ],
             [
              0.2222222222222222,
              "#7201a8"
             ],
             [
              0.3333333333333333,
              "#9c179e"
             ],
             [
              0.4444444444444444,
              "#bd3786"
             ],
             [
              0.5555555555555556,
              "#d8576b"
             ],
             [
              0.6666666666666666,
              "#ed7953"
             ],
             [
              0.7777777777777778,
              "#fb9f3a"
             ],
             [
              0.8888888888888888,
              "#fdca26"
             ],
             [
              1,
              "#f0f921"
             ]
            ],
            "type": "histogram2dcontour"
           }
          ],
          "mesh3d": [
           {
            "colorbar": {
             "outlinewidth": 0,
             "ticks": ""
            },
            "type": "mesh3d"
           }
          ],
          "parcoords": [
           {
            "line": {
             "colorbar": {
              "outlinewidth": 0,
              "ticks": ""
             }
            },
            "type": "parcoords"
           }
          ],
          "pie": [
           {
            "automargin": true,
            "type": "pie"
           }
          ],
          "scatter": [
           {
            "fillpattern": {
             "fillmode": "overlay",
             "size": 10,
             "solidity": 0.2
            },
            "type": "scatter"
           }
          ],
          "scatter3d": [
           {
            "line": {
             "colorbar": {
              "outlinewidth": 0,
              "ticks": ""
             }
            },
            "marker": {
             "colorbar": {
              "outlinewidth": 0,
              "ticks": ""
             }
            },
            "type": "scatter3d"
           }
          ],
          "scattercarpet": [
           {
            "marker": {
             "colorbar": {
              "outlinewidth": 0,
              "ticks": ""
             }
            },
            "type": "scattercarpet"
           }
          ],
          "scattergeo": [
           {
            "marker": {
             "colorbar": {
              "outlinewidth": 0,
              "ticks": ""
             }
            },
            "type": "scattergeo"
           }
          ],
          "scattergl": [
           {
            "marker": {
             "colorbar": {
              "outlinewidth": 0,
              "ticks": ""
             }
            },
            "type": "scattergl"
           }
          ],
          "scattermapbox": [
           {
            "marker": {
             "colorbar": {
              "outlinewidth": 0,
              "ticks": ""
             }
            },
            "type": "scattermapbox"
           }
          ],
          "scatterpolar": [
           {
            "marker": {
             "colorbar": {
              "outlinewidth": 0,
              "ticks": ""
             }
            },
            "type": "scatterpolar"
           }
          ],
          "scatterpolargl": [
           {
            "marker": {
             "colorbar": {
              "outlinewidth": 0,
              "ticks": ""
             }
            },
            "type": "scatterpolargl"
           }
          ],
          "scatterternary": [
           {
            "marker": {
             "colorbar": {
              "outlinewidth": 0,
              "ticks": ""
             }
            },
            "type": "scatterternary"
           }
          ],
          "surface": [
           {
            "colorbar": {
             "outlinewidth": 0,
             "ticks": ""
            },
            "colorscale": [
             [
              0,
              "#0d0887"
             ],
             [
              0.1111111111111111,
              "#46039f"
             ],
             [
              0.2222222222222222,
              "#7201a8"
             ],
             [
              0.3333333333333333,
              "#9c179e"
             ],
             [
              0.4444444444444444,
              "#bd3786"
             ],
             [
              0.5555555555555556,
              "#d8576b"
             ],
             [
              0.6666666666666666,
              "#ed7953"
             ],
             [
              0.7777777777777778,
              "#fb9f3a"
             ],
             [
              0.8888888888888888,
              "#fdca26"
             ],
             [
              1,
              "#f0f921"
             ]
            ],
            "type": "surface"
           }
          ],
          "table": [
           {
            "cells": {
             "fill": {
              "color": "#EBF0F8"
             },
             "line": {
              "color": "white"
             }
            },
            "header": {
             "fill": {
              "color": "#C8D4E3"
             },
             "line": {
              "color": "white"
             }
            },
            "type": "table"
           }
          ]
         },
         "layout": {
          "annotationdefaults": {
           "arrowcolor": "#2a3f5f",
           "arrowhead": 0,
           "arrowwidth": 1
          },
          "autotypenumbers": "strict",
          "coloraxis": {
           "colorbar": {
            "outlinewidth": 0,
            "ticks": ""
           }
          },
          "colorscale": {
           "diverging": [
            [
             0,
             "#8e0152"
            ],
            [
             0.1,
             "#c51b7d"
            ],
            [
             0.2,
             "#de77ae"
            ],
            [
             0.3,
             "#f1b6da"
            ],
            [
             0.4,
             "#fde0ef"
            ],
            [
             0.5,
             "#f7f7f7"
            ],
            [
             0.6,
             "#e6f5d0"
            ],
            [
             0.7,
             "#b8e186"
            ],
            [
             0.8,
             "#7fbc41"
            ],
            [
             0.9,
             "#4d9221"
            ],
            [
             1,
             "#276419"
            ]
           ],
           "sequential": [
            [
             0,
             "#0d0887"
            ],
            [
             0.1111111111111111,
             "#46039f"
            ],
            [
             0.2222222222222222,
             "#7201a8"
            ],
            [
             0.3333333333333333,
             "#9c179e"
            ],
            [
             0.4444444444444444,
             "#bd3786"
            ],
            [
             0.5555555555555556,
             "#d8576b"
            ],
            [
             0.6666666666666666,
             "#ed7953"
            ],
            [
             0.7777777777777778,
             "#fb9f3a"
            ],
            [
             0.8888888888888888,
             "#fdca26"
            ],
            [
             1,
             "#f0f921"
            ]
           ],
           "sequentialminus": [
            [
             0,
             "#0d0887"
            ],
            [
             0.1111111111111111,
             "#46039f"
            ],
            [
             0.2222222222222222,
             "#7201a8"
            ],
            [
             0.3333333333333333,
             "#9c179e"
            ],
            [
             0.4444444444444444,
             "#bd3786"
            ],
            [
             0.5555555555555556,
             "#d8576b"
            ],
            [
             0.6666666666666666,
             "#ed7953"
            ],
            [
             0.7777777777777778,
             "#fb9f3a"
            ],
            [
             0.8888888888888888,
             "#fdca26"
            ],
            [
             1,
             "#f0f921"
            ]
           ]
          },
          "colorway": [
           "#636efa",
           "#EF553B",
           "#00cc96",
           "#ab63fa",
           "#FFA15A",
           "#19d3f3",
           "#FF6692",
           "#B6E880",
           "#FF97FF",
           "#FECB52"
          ],
          "font": {
           "color": "#2a3f5f"
          },
          "geo": {
           "bgcolor": "white",
           "lakecolor": "white",
           "landcolor": "#E5ECF6",
           "showlakes": true,
           "showland": true,
           "subunitcolor": "white"
          },
          "hoverlabel": {
           "align": "left"
          },
          "hovermode": "closest",
          "mapbox": {
           "style": "light"
          },
          "paper_bgcolor": "white",
          "plot_bgcolor": "#E5ECF6",
          "polar": {
           "angularaxis": {
            "gridcolor": "white",
            "linecolor": "white",
            "ticks": ""
           },
           "bgcolor": "#E5ECF6",
           "radialaxis": {
            "gridcolor": "white",
            "linecolor": "white",
            "ticks": ""
           }
          },
          "scene": {
           "xaxis": {
            "backgroundcolor": "#E5ECF6",
            "gridcolor": "white",
            "gridwidth": 2,
            "linecolor": "white",
            "showbackground": true,
            "ticks": "",
            "zerolinecolor": "white"
           },
           "yaxis": {
            "backgroundcolor": "#E5ECF6",
            "gridcolor": "white",
            "gridwidth": 2,
            "linecolor": "white",
            "showbackground": true,
            "ticks": "",
            "zerolinecolor": "white"
           },
           "zaxis": {
            "backgroundcolor": "#E5ECF6",
            "gridcolor": "white",
            "gridwidth": 2,
            "linecolor": "white",
            "showbackground": true,
            "ticks": "",
            "zerolinecolor": "white"
           }
          },
          "shapedefaults": {
           "line": {
            "color": "#2a3f5f"
           }
          },
          "ternary": {
           "aaxis": {
            "gridcolor": "white",
            "linecolor": "white",
            "ticks": ""
           },
           "baxis": {
            "gridcolor": "white",
            "linecolor": "white",
            "ticks": ""
           },
           "bgcolor": "#E5ECF6",
           "caxis": {
            "gridcolor": "white",
            "linecolor": "white",
            "ticks": ""
           }
          },
          "title": {
           "x": 0.05
          },
          "xaxis": {
           "automargin": true,
           "gridcolor": "white",
           "linecolor": "white",
           "ticks": "",
           "title": {
            "standoff": 15
           },
           "zerolinecolor": "white",
           "zerolinewidth": 2
          },
          "yaxis": {
           "automargin": true,
           "gridcolor": "white",
           "linecolor": "white",
           "ticks": "",
           "title": {
            "standoff": 15
           },
           "zerolinecolor": "white",
           "zerolinewidth": 2
          }
         }
        },
        "title": {
         "font": {
          "color": "black",
          "family": "Arial",
          "size": 14
         },
         "text": "<b>Upgrades per Power Colorchip</b>",
         "x": 0.4,
         "xanchor": "center",
         "y": 0.965,
         "yanchor": "top"
        },
        "updatemenus": [
         {
          "buttons": [
           {
            "args": [
             {
              "visible": [
               true,
               true,
               true,
               true,
               true,
               true,
               true,
               true,
               true,
               true,
               true,
               true,
               true,
               true,
               true,
               false,
               false,
               false,
               false,
               false,
               false,
               false,
               false,
               false,
               false,
               false,
               false,
               false,
               false,
               false,
               false,
               false,
               false,
               false,
               false,
               false,
               false,
               false,
               false,
               false,
               false,
               false,
               false,
               false,
               false,
               false,
               false,
               false,
               false,
               false,
               false,
               false,
               false,
               false,
               false,
               false,
               false,
               false,
               false,
               false
              ]
             },
             {
              "images": [
               {
                "opacity": 0.5,
                "sizex": 0.4,
                "sizey": 0.4,
                "source": "../images/colorchips/power_colorchip.png",
                "x": 0.8,
                "xanchor": "center",
                "xref": "paper",
                "y": 0.7,
                "yanchor": "middle",
                "yref": "paper"
               }
              ],
              "title.text": "<b>Upgrades per Power Colorchip</b>",
              "yaxis.ticktext": [
               "100%",
               "200%",
               "300%",
               "400%",
               "500%",
               "600%",
               "700%",
               "800%",
               "900%",
               "1000%"
              ],
              "yaxis.title.text": "<b>Increment in (%)</b>"
             }
            ],
            "label": "Power Colorchip",
            "method": "update"
           },
           {
            "args": [
             {
              "visible": [
               false,
               false,
               false,
               false,
               false,
               false,
               false,
               false,
               false,
               false,
               false,
               false,
               false,
               false,
               false,
               true,
               true,
               true,
               true,
               true,
               true,
               true,
               true,
               true,
               true,
               true,
               false,
               false,
               false,
               false,
               false,
               false,
               false,
               false,
               false,
               false,
               false,
               false,
               false,
               false,
               false,
               false,
               false,
               false,
               false,
               false,
               false,
               false,
               false,
               false,
               false,
               false,
               false,
               false,
               false,
               false,
               false,
               false,
               false,
               false
              ]
             },
             {
              "images": [
               {
                "opacity": 0.5,
                "sizex": 0.4,
                "sizey": 0.4,
                "source": "../images/colorchips/range_colorchip.png",
                "x": 0.8,
                "xanchor": "center",
                "xref": "paper",
                "y": 0.7,
                "yanchor": "middle",
                "yref": "paper"
               }
              ],
              "title.text": "<b>Upgrades per Range Colorchip</b>",
              "yaxis.ticktext": [
               "100%",
               "200%",
               "300%",
               "400%",
               "500%",
               "600%",
               "700%",
               "800%",
               "900%",
               "1000%"
              ],
              "yaxis.title.text": "<b>Increment in (%)</b>"
             }
            ],
            "label": "Range Colorchip",
            "method": "update"
           },
           {
            "args": [
             {
              "visible": [
               false,
               false,
               false,
               false,
               false,
               false,
               false,
               false,
               false,
               false,
               false,
               false,
               false,
               false,
               false,
               false,
               false,
               false,
               false,
               false,
               false,
               false,
               false,
               false,
               false,
               false,
               true,
               true,
               true,
               true,
               true,
               true,
               false,
               false,
               false,
               false,
               false,
               false,
               false,
               false,
               false,
               false,
               false,
               false,
               false,
               false,
               false,
               false,
               false,
               false,
               false,
               false,
               false,
               false,
               false,
               false,
               false,
               false,
               false,
               false
              ]
             },
             {
              "images": [
               {
                "opacity": 0.5,
                "sizex": 0.4,
                "sizey": 0.4,
                "source": "../images/colorchips/mobility_colorchip.png",
                "x": 0.8,
                "xanchor": "center",
                "xref": "paper",
                "y": 0.7,
                "yanchor": "middle",
                "yref": "paper"
               }
              ],
              "title.text": "<b>Upgrades per Mobility Colorchip</b>",
              "yaxis.ticktext": [
               "100%",
               "200%",
               "300%",
               "400%",
               "500%",
               "600%",
               "700%",
               "800%",
               "900%",
               "1000%"
              ],
              "yaxis.title.text": "<b>Increment in (%)</b>"
             }
            ],
            "label": "Mobility Colorchip",
            "method": "update"
           },
           {
            "args": [
             {
              "visible": [
               false,
               false,
               false,
               false,
               false,
               false,
               false,
               false,
               false,
               false,
               false,
               false,
               false,
               false,
               false,
               false,
               false,
               false,
               false,
               false,
               false,
               false,
               false,
               false,
               false,
               false,
               false,
               false,
               false,
               false,
               false,
               false,
               true,
               true,
               true,
               true,
               true,
               true,
               true,
               true,
               true,
               true,
               true,
               true,
               true,
               false,
               false,
               false,
               false,
               false,
               false,
               false,
               false,
               false,
               false,
               false,
               false,
               false,
               false,
               false
              ]
             },
             {
              "images": [
               {
                "opacity": 0.5,
                "sizex": 0.4,
                "sizey": 0.4,
                "source": "../images/colorchips/support_colorchip.png",
                "x": 0.8,
                "xanchor": "center",
                "xref": "paper",
                "y": 0.7,
                "yanchor": "middle",
                "yref": "paper"
               }
              ],
              "title.text": "<b>Upgrades per Support Colorchip</b>",
              "yaxis.ticktext": [
               "100%",
               "200%",
               "300%",
               "400%",
               "500%",
               "600%",
               "700%",
               "800%",
               "900%",
               "1000%"
              ],
              "yaxis.title.text": "<b>Increment in (%)</b>"
             }
            ],
            "label": "Support Colorchip",
            "method": "update"
           },
           {
            "args": [
             {
              "visible": [
               false,
               false,
               false,
               false,
               false,
               false,
               false,
               false,
               false,
               false,
               false,
               false,
               false,
               false,
               false,
               false,
               false,
               false,
               false,
               false,
               false,
               false,
               false,
               false,
               false,
               false,
               false,
               false,
               false,
               false,
               false,
               false,
               false,
               false,
               false,
               false,
               false,
               false,
               false,
               false,
               false,
               false,
               false,
               false,
               false,
               true,
               true,
               true,
               true,
               true,
               true,
               false,
               false,
               false,
               false,
               false,
               false,
               false,
               false,
               false
              ]
             },
             {
              "images": [
               {
                "opacity": 0.5,
                "sizex": 0.4,
                "sizey": 0.4,
                "source": "../images/colorchips/lucky_colorchip.png",
                "x": 0.8,
                "xanchor": "center",
                "xref": "paper",
                "y": 0.7,
                "yanchor": "middle",
                "yref": "paper"
               }
              ],
              "title.text": "<b>Upgrades per Lucky Colorchip</b>",
              "yaxis.ticktext": [
               "100%",
               "200%",
               "300%",
               "400%",
               "500%",
               "600%",
               "700%",
               "800%",
               "900%",
               "1000%"
              ],
              "yaxis.title.text": "<b>Increment in (%)</b>"
             }
            ],
            "label": "Lucky Colorchip",
            "method": "update"
           },
           {
            "args": [
             {
              "visible": [
               false,
               false,
               false,
               false,
               false,
               false,
               false,
               false,
               false,
               false,
               false,
               false,
               false,
               false,
               false,
               false,
               false,
               false,
               false,
               false,
               false,
               false,
               false,
               false,
               false,
               false,
               false,
               false,
               false,
               false,
               false,
               false,
               false,
               false,
               false,
               false,
               false,
               false,
               false,
               false,
               false,
               false,
               false,
               false,
               false,
               false,
               false,
               false,
               false,
               false,
               false,
               true,
               true,
               true,
               true,
               true,
               true,
               true,
               true,
               true
              ]
             },
             {
              "images": [
               {
                "opacity": 0.5,
                "sizex": 0.4,
                "sizey": 0.4,
                "source": "../images/colorchips/drone_colorchip.png",
                "x": 0.8,
                "xanchor": "center",
                "xref": "paper",
                "y": 0.7,
                "yanchor": "middle",
                "yref": "paper"
               }
              ],
              "title.text": "<b>Upgrades per Drone Colorchip</b>",
              "yaxis.ticktext": [
               "100p",
               "200p",
               "300p",
               "400p",
               "500p",
               "600p",
               "700p",
               "800p",
               "900p",
               "1000p"
              ],
              "yaxis.title.text": "<b>Increment in (p)</b>"
             }
            ],
            "label": "Drone Colorchip",
            "method": "update"
           }
          ],
          "direction": "down",
          "pad": {
           "r": 10,
           "t": 10
          },
          "showactive": true,
          "x": 1.285,
          "xanchor": "right",
          "y": 0.875,
          "yanchor": "bottom"
         }
        ],
        "width": 900,
        "xaxis": {
         "anchor": "y",
         "domain": [
          0,
          1
         ],
         "range": [
          1,
          10.1
         ],
         "tickmode": "array",
         "ticktext": [
          1,
          2,
          3,
          4,
          5,
          6,
          7,
          8,
          9,
          10
         ],
         "tickvals": [
          1,
          2,
          3,
          4,
          5,
          6,
          7,
          8,
          9,
          10
         ],
         "title": {
          "font": {
           "color": "black",
           "family": "Arial",
           "size": 12
          },
          "text": "<b>Stage Upgrade Number</b>"
         }
        },
        "yaxis": {
         "anchor": "x",
         "domain": [
          0,
          1
         ],
         "tickmode": "array",
         "ticktext": [
          "100%",
          "200%",
          "300%",
          "400%",
          "500%",
          "600%",
          "700%",
          "800%",
          "900%",
          "1000%"
         ],
         "tickvals": [
          100,
          200,
          300,
          400,
          500,
          600,
          700,
          800,
          900,
          1000
         ],
         "title": {
          "font": {
           "color": "black",
           "family": "Arial",
           "size": 12
          },
          "standoff": 0.2,
          "text": "<b>Increment in (%)</b>"
         }
        }
       }
      }
     },
     "metadata": {},
     "output_type": "display_data"
    }
   ],
   "source": [
    "powerchips = pd.read_csv('../data/colorchips & damage/colorchips/power_colorchips.csv')\n",
    "rangechips = pd.read_csv('../data/colorchips & damage/colorchips/range_colorchips_main_ink.csv')\n",
    "mobilitychips = pd.read_csv('../data/colorchips & damage/colorchips/mobility_colorchips.csv')\n",
    "supportchips = pd.read_csv('../data/colorchips & damage/colorchips/support_colorchips.csv')\n",
    "luckychips = pd.read_csv('../data/colorchips & damage/colorchips/lucky_colorchips.csv')\n",
    "dronechips = pd.read_csv('../data/colorchips & damage/colorchips/drone_colorchips.csv')\n",
    "\n",
    "# Exclude certain columns from mobilitychips\n",
    "exclude_columns_mchips = ['Extra Dodge Roll', 'Charge Storage', 'Squid Attack', 'Dodge Roll Attack', 'Lunge Attack', 'Mobile Special Charge', 'Mobile Drone Gauge', 'Extra comments']\n",
    "mobilitychip_accepted_columns = [col for col in mobilitychips.columns[2:-1] if not any(exclude_col in col for exclude_col in exclude_columns_mchips)]\n",
    "\n",
    "# Convert data types to scale in percentage or in point costs\n",
    "def process_colorchips(df, exclude_columns, columns):\n",
    "    for col in columns:\n",
    "        if col not in exclude_columns:\n",
    "            if df[col].dtype == 'object' and '%' in df[col].iloc[0]:\n",
    "                df[col] = df[col].str.rstrip('%').astype('float')\n",
    "            else:\n",
    "                df[col] = df[col].astype('float')\n",
    "    return df\n",
    "\n",
    "# Process each colorchip dataset\n",
    "powerchips = process_colorchips(powerchips, ['id'], powerchips.columns[2:-1])\n",
    "rangechips = process_colorchips(rangechips, ['id'], rangechips.columns[4:-2])\n",
    "mobilitychips = process_colorchips(mobilitychips, ['id'], mobilitychip_accepted_columns)\n",
    "supportchips = process_colorchips(supportchips, ['id'], supportchips.columns[2:-5])\n",
    "luckychips = process_colorchips(luckychips, ['id'], luckychips.columns[2:-3])\n",
    "dronechips = process_colorchips(dronechips, ['id'], dronechips.columns[2:])\n",
    "\n",
    "# Create the initial plot\n",
    "fig = make_subplots(rows=1, cols=1)\n",
    "trace_count = 0\n",
    "\n",
    "# Define categories and corresponding image sources\n",
    "categories = [\n",
    "    (powerchips, powerchips.columns[2:-1], 'Power Colorchip', '../images/colorchips/power_colorchip.png'),\n",
    "    (rangechips, rangechips.columns[4:-2], 'Range Colorchip', '../images/colorchips/range_colorchip.png'),\n",
    "    (mobilitychips, mobilitychip_accepted_columns, 'Mobility Colorchip', '../images/colorchips/mobility_colorchip.png'),\n",
    "    (supportchips, supportchips.columns[2:-5], 'Support Colorchip', '../images/colorchips/support_colorchip.png'),\n",
    "    (luckychips, luckychips.columns[2:-3], 'Lucky Colorchip', '../images/colorchips/lucky_colorchip.png'),\n",
    "    (dronechips, dronechips.columns[2:], 'Drone Colorchip', '../images/colorchips/drone_colorchip.png'),\n",
    "]\n",
    "\n",
    "# Add traces to the plot\n",
    "trace_visibility = []\n",
    "for df, columns, name, _ in categories:\n",
    "    start_idx = trace_count\n",
    "    for col in columns:\n",
    "        fig.add_trace(go.Scatter(\n",
    "            x=df['id'],\n",
    "            y=df[col],\n",
    "            mode='lines+markers',\n",
    "            name=col,\n",
    "            hoverinfo='text',\n",
    "            visible=(name == 'Power Colorchip'),\n",
    "            text=[f'Stage: {x}<br>{col}: {y}%' for x, y in zip(df['id'], df[col])]\n",
    "        ))\n",
    "        trace_count += 1\n",
    "    trace_visibility.append((start_idx, trace_count - 1))\n",
    "\n",
    "# Function to create update arguments\n",
    "def create_update_args(start, end, y_title, y_ticktext, plot_title, image_source):\n",
    "    visibility = [False] * trace_count\n",
    "    for i in range(start, end + 1):\n",
    "        visibility[i] = True\n",
    "    return [\n",
    "        {'visible': visibility},\n",
    "        {\n",
    "            'yaxis.title.text': y_title,\n",
    "            'yaxis.ticktext': y_ticktext,\n",
    "            'title.text': plot_title,\n",
    "            'images': [{'source': image_source, 'xref': \"paper\", 'yref': \"paper\", 'x': 0.8, 'y': 0.7, 'sizex': 0.4, 'sizey': 0.4, 'xanchor': \"center\", 'yanchor': \"middle\", 'opacity': 0.5}]\n",
    "        }\n",
    "    ]\n",
    "\n",
    "# Add a dropdown menu to switch between categories\n",
    "fig.update_layout(\n",
    "    updatemenus=[\n",
    "        dict(\n",
    "            buttons=[\n",
    "                dict(label='Power Colorchip', method='update',\n",
    "                     args=create_update_args(0, len(powerchips.columns[2:-1]) - 1,\n",
    "                                             '<b>Increment in (%)</b>',\n",
    "                                             [f\"{tick}%\" for tick in range(100, 1001, 100)],\n",
    "                                             '<b>Upgrades per Power Colorchip</b>',\n",
    "                                             '../images/colorchips/power_colorchip.png')),\n",
    "                dict(label='Range Colorchip', method='update',\n",
    "                     args=create_update_args(trace_visibility[1][0], trace_visibility[1][1],\n",
    "                                             '<b>Increment in (%)</b>',\n",
    "                                             [f\"{tick}%\" for tick in range(100, 1001, 100)],\n",
    "                                             '<b>Upgrades per Range Colorchip</b>',\n",
    "                                             '../images/colorchips/range_colorchip.png')),\n",
    "                dict(label='Mobility Colorchip', method='update',\n",
    "                     args=create_update_args(trace_visibility[2][0], trace_visibility[2][1],\n",
    "                                             '<b>Increment in (%)</b>',\n",
    "                                             [f\"{tick}%\" for tick in range(100, 1001, 100)],\n",
    "                                             '<b>Upgrades per Mobility Colorchip</b>',\n",
    "                                             '../images/colorchips/mobility_colorchip.png')),\n",
    "                dict(label='Support Colorchip', method='update',\n",
    "                     args=create_update_args(trace_visibility[3][0], trace_visibility[3][1],\n",
    "                                             '<b>Increment in (%)</b>',\n",
    "                                             [f\"{tick}%\" for tick in range(100, 1001, 100)],\n",
    "                                             '<b>Upgrades per Support Colorchip</b>',\n",
    "                                             '../images/colorchips/support_colorchip.png')),\n",
    "                dict(label='Lucky Colorchip', method='update',\n",
    "                     args=create_update_args(trace_visibility[4][0], trace_visibility[4][1],\n",
    "                                             '<b>Increment in (%)</b>',\n",
    "                                             [f\"{tick}%\" for tick in range(100, 1001, 100)],\n",
    "                                             '<b>Upgrades per Lucky Colorchip</b>',\n",
    "                                             '../images/colorchips/lucky_colorchip.png')),\n",
    "                dict(label='Drone Colorchip', method='update',\n",
    "                     args=create_update_args(trace_visibility[5][0], trace_visibility[5][1],\n",
    "                                             '<b>Increment in (p)</b>',\n",
    "                                             [f\"{tick}p\" for tick in range(100, 1001, 100)],\n",
    "                                             '<b>Upgrades per Drone Colorchip</b>',\n",
    "                                             '../images/colorchips/drone_colorchip.png'))\n",
    "            ],\n",
    "            direction='down',\n",
    "            pad={'r': 10, 't': 10},\n",
    "            showactive=True,\n",
    "            x=1.285,\n",
    "            xanchor='right',\n",
    "            y=0.875,\n",
    "            yanchor='bottom'\n",
    "        )\n",
    "    ]\n",
    ")\n",
    "\n",
    "# Initial layout\n",
    "fig.update_layout(\n",
    "    title={\n",
    "        'text': '<b>Upgrades per Power Colorchip</b>',\n",
    "        'y': 0.965,\n",
    "        'x': 0.4,\n",
    "        'xanchor': 'center',\n",
    "        'yanchor': 'top',\n",
    "        'font': {\n",
    "            'size': 14,\n",
    "            'family': 'Arial',\n",
    "            'color': 'black',\n",
    "        }\n",
    "    },\n",
    "    xaxis=dict(\n",
    "        title='<b>Stage Upgrade Number</b>',\n",
    "        tickmode='array',\n",
    "        tickvals=list(range(1, 11)),\n",
    "        ticktext=list(range(1, 11)),\n",
    "        titlefont=dict(family='Arial', size=12, color='black'),\n",
    "        range=[1, 10.1]\n",
    "    ),\n",
    "    yaxis=dict(\n",
    "        title=dict(\n",
    "            text='<b>Increment in (%)</b>',\n",
    "            standoff=0.2  # Adjust this value to move the title to the right\n",
    "        ),\n",
    "        tickmode='array',\n",
    "        tickvals=list(range(100, 1001, 100)),\n",
    "        ticktext=[f\"{tick}%\" for tick in range(100, 1001, 100)],\n",
    "        titlefont=dict(family='Arial', size=12, color='black')\n",
    "    ),\n",
    "    legend=dict(\n",
    "        x=1.01,\n",
    "        y=0.8,\n",
    "        traceorder='normal',\n",
    "        font=dict(family='Arial', size=12, color='black'),\n",
    "        bgcolor='rgba(0,0,0,0)',\n",
    "        bordercolor='rgba(0,0,0,0)'\n",
    "    ),\n",
    "    margin=dict(l=40, r=40, t=40, b=40),\n",
    "    hovermode='closest',\n",
    "    width=900 \n",
    ")\n",
    "\n",
    "# Add initial image\n",
    "fig.add_layout_image(\n",
    "    dict(\n",
    "        source='../images/colorchips/power_colorchip.png',\n",
    "        xref=\"paper\", yref=\"paper\",\n",
    "        x=0.8, y=0.7,\n",
    "        sizex=0.4, sizey=0.4,\n",
    "        xanchor=\"center\", yanchor=\"middle\",\n",
    "        opacity=0.5\n",
    "    )\n",
    ")\n",
    "\n",
    "# Show the plot\n",
    "fig.show()"
   ]
  }
 ],
 "metadata": {
  "kernelspec": {
   "display_name": "Python 3 (ipykernel)",
   "language": "python",
   "name": "python3"
  },
  "language_info": {
   "codemirror_mode": {
    "name": "ipython",
    "version": 3
   },
   "file_extension": ".py",
   "mimetype": "text/x-python",
   "name": "python",
   "nbconvert_exporter": "python",
   "pygments_lexer": "ipython3",
   "version": "3.11.4"
  }
 },
 "nbformat": 4,
 "nbformat_minor": 5
}
