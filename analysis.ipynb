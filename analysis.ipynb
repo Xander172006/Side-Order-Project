{
 "cells": [
  {
   "cell_type": "markdown",
   "id": "72b351d3-3c9c-46b5-9391-93d40d447c8f",
   "metadata": {},
   "source": [
    "### **Splatoon 3 side order  in depth analysis**"
   ]
  },
  {
   "cell_type": "markdown",
   "id": "e3d124ba",
   "metadata": {},
   "source": [
    "Side order is the latest released single player dlc for splatoon 3 on the nintendo switch. The gamemode is structured in a roadlike game, with progress being tracked by the amount of floors the player has went up.\n",
    "there are a total of 30 floors after the first climb of 10 floors. Each floor will progress in difficulty, but does allow the oppurtunity for the player to enhance their weapons & abilities.\n",
    "\n",
    "<img src=\"./images/side-order-main-image.webp\" alt=\"Side order image\" width=\"300\">\n",
    "\n",
    "These upgrades can be acquired by collecting colorchips. There are 6 categories in wich a colorchip can increase different damage, movement, mobility or even the pearl drone enhancements. The last importent feature is the Marina hacks that you can boost by (prlz) wich are the ingame currency for leveling them. Marina's hacks mostly involve player durability, lives and armor statistics."
   ]
  },
  {
   "cell_type": "code",
   "execution_count": 103,
   "id": "36825906-a2ae-464b-8989-cd1e42498a85",
   "metadata": {},
   "outputs": [],
   "source": [
    "import pandas as pd\n",
    "import matplotlib.pyplot as plt"
   ]
  },
  {
   "cell_type": "markdown",
   "id": "edf34e3d",
   "metadata": {},
   "source": [
    "The first thing we will look at are the damage types and their increasing scalability. They range from any source of damage that can be dealt by either the player or pearl drone. Such as main weapon, sub weapon, special weapon, pearl drone abilities and stage mechanics like the towers sprinkler."
   ]
  },
  {
   "cell_type": "code",
   "execution_count": 106,
   "id": "11ec2460",
   "metadata": {},
   "outputs": [],
   "source": [
    "main_weapons = pd.read_csv('../Side-Order-Project/data/main weapons & special weapons/main weapons spreadheet.csv')"
   ]
  }
 ],
 "metadata": {
  "kernelspec": {
   "display_name": "Python 3 (ipykernel)",
   "language": "python",
   "name": "python3"
  },
  "language_info": {
   "codemirror_mode": {
    "name": "ipython",
    "version": 3
   },
   "file_extension": ".py",
   "mimetype": "text/x-python",
   "name": "python",
   "nbconvert_exporter": "python",
   "pygments_lexer": "ipython3",
   "version": "3.11.4"
  }
 },
 "nbformat": 4,
 "nbformat_minor": 5
}
